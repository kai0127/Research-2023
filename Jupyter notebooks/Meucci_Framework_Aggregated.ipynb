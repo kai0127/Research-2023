{
 "cells": [
  {
   "cell_type": "markdown",
   "id": "1f23e63f-b719-49d1-a656-6e646cccfd14",
   "metadata": {},
   "source": [
    "# <center> Meucci's Framework Aggregated</center>"
   ]
  },
  {
   "cell_type": "markdown",
   "id": "dee4fe3f-a1a0-4172-9d4c-6ac6939cd400",
   "metadata": {},
   "source": [
    "&copy; Kaiwen Zhou 2023"
   ]
  },
  {
   "cell_type": "markdown",
   "id": "6f3066b6-1985-4e12-8d6c-f98bccedab2a",
   "metadata": {},
   "source": [
    "# Import libraries"
   ]
  },
  {
   "cell_type": "code",
   "execution_count": 1,
   "id": "3ac11c0e-dfc5-41bd-8372-ab02a8f1b7d6",
   "metadata": {},
   "outputs": [],
   "source": [
    "import numpy as np\n",
    "import pandas as pd\n",
    "import cvxopt \n",
    "\n",
    "from datetime import timedelta\n",
    "import impyute as impy\n",
    "import matplotlib.pyplot as plt\n",
    "import matplotlib.cm as cm"
   ]
  },
  {
   "cell_type": "markdown",
   "id": "1e1b3f20-b95f-449e-b59a-ec88029a5f48",
   "metadata": {},
   "source": [
    "# Load data"
   ]
  },
  {
   "cell_type": "code",
   "execution_count": 2,
   "id": "8711abab-35c8-40fc-8af9-f3da671c4513",
   "metadata": {},
   "outputs": [
    {
     "name": "stdout",
     "output_type": "stream",
     "text": [
      "[*********************100%***********************]  1 of 1 completed\n",
      "[*********************100%***********************]  1 of 1 completed\n",
      "[*********************100%***********************]  1 of 1 completed\n",
      "[*********************100%***********************]  1 of 1 completed\n",
      "[*********************100%***********************]  1 of 1 completed\n",
      "[*********************100%***********************]  1 of 1 completed\n",
      "[*********************100%***********************]  1 of 1 completed\n",
      "Weekly closing prices from 2012 to 2022 for the top 7 stocks in different industries:\n"
     ]
    },
    {
     "data": {
      "text/html": [
       "<div>\n",
       "<style scoped>\n",
       "    .dataframe tbody tr th:only-of-type {\n",
       "        vertical-align: middle;\n",
       "    }\n",
       "\n",
       "    .dataframe tbody tr th {\n",
       "        vertical-align: top;\n",
       "    }\n",
       "\n",
       "    .dataframe thead th {\n",
       "        text-align: right;\n",
       "    }\n",
       "</style>\n",
       "<table border=\"1\" class=\"dataframe\">\n",
       "  <thead>\n",
       "    <tr style=\"text-align: right;\">\n",
       "      <th></th>\n",
       "      <th>AAPL</th>\n",
       "      <th>AMZN</th>\n",
       "      <th>JPM</th>\n",
       "      <th>JNJ</th>\n",
       "      <th>XOM</th>\n",
       "      <th>GE</th>\n",
       "      <th>HD</th>\n",
       "    </tr>\n",
       "    <tr>\n",
       "      <th>Date</th>\n",
       "      <th></th>\n",
       "      <th></th>\n",
       "      <th></th>\n",
       "      <th></th>\n",
       "      <th></th>\n",
       "      <th></th>\n",
       "      <th></th>\n",
       "    </tr>\n",
       "  </thead>\n",
       "  <tbody>\n",
       "    <tr>\n",
       "      <th>2012-01-09</th>\n",
       "      <td>14.993214</td>\n",
       "      <td>8.921000</td>\n",
       "      <td>35.919998</td>\n",
       "      <td>65.260002</td>\n",
       "      <td>84.879997</td>\n",
       "      <td>113.132767</td>\n",
       "      <td>43.509998</td>\n",
       "    </tr>\n",
       "    <tr>\n",
       "      <th>2012-01-16</th>\n",
       "      <td>15.010714</td>\n",
       "      <td>9.546500</td>\n",
       "      <td>37.360001</td>\n",
       "      <td>65.269997</td>\n",
       "      <td>87.489998</td>\n",
       "      <td>114.994293</td>\n",
       "      <td>44.509998</td>\n",
       "    </tr>\n",
       "    <tr>\n",
       "      <th>2012-01-23</th>\n",
       "      <td>15.974286</td>\n",
       "      <td>9.768500</td>\n",
       "      <td>37.209999</td>\n",
       "      <td>65.559998</td>\n",
       "      <td>85.830002</td>\n",
       "      <td>114.273705</td>\n",
       "      <td>44.869999</td>\n",
       "    </tr>\n",
       "    <tr>\n",
       "      <th>2012-01-30</th>\n",
       "      <td>16.417143</td>\n",
       "      <td>9.384000</td>\n",
       "      <td>38.279999</td>\n",
       "      <td>65.639999</td>\n",
       "      <td>84.919998</td>\n",
       "      <td>114.213654</td>\n",
       "      <td>45.169998</td>\n",
       "    </tr>\n",
       "    <tr>\n",
       "      <th>2012-02-06</th>\n",
       "      <td>17.622143</td>\n",
       "      <td>9.277000</td>\n",
       "      <td>37.610001</td>\n",
       "      <td>64.599998</td>\n",
       "      <td>83.800003</td>\n",
       "      <td>113.372963</td>\n",
       "      <td>45.330002</td>\n",
       "    </tr>\n",
       "    <tr>\n",
       "      <th>...</th>\n",
       "      <td>...</td>\n",
       "      <td>...</td>\n",
       "      <td>...</td>\n",
       "      <td>...</td>\n",
       "      <td>...</td>\n",
       "      <td>...</td>\n",
       "      <td>...</td>\n",
       "    </tr>\n",
       "    <tr>\n",
       "      <th>2022-11-28</th>\n",
       "      <td>147.809998</td>\n",
       "      <td>94.129997</td>\n",
       "      <td>135.160004</td>\n",
       "      <td>178.880005</td>\n",
       "      <td>109.860001</td>\n",
       "      <td>67.822014</td>\n",
       "      <td>327.989990</td>\n",
       "    </tr>\n",
       "    <tr>\n",
       "      <th>2022-12-05</th>\n",
       "      <td>142.160004</td>\n",
       "      <td>89.089996</td>\n",
       "      <td>132.160004</td>\n",
       "      <td>175.740005</td>\n",
       "      <td>103.540001</td>\n",
       "      <td>63.583138</td>\n",
       "      <td>320.480011</td>\n",
       "    </tr>\n",
       "    <tr>\n",
       "      <th>2022-12-12</th>\n",
       "      <td>134.509995</td>\n",
       "      <td>87.860001</td>\n",
       "      <td>129.289993</td>\n",
       "      <td>175.669998</td>\n",
       "      <td>104.699997</td>\n",
       "      <td>60.616707</td>\n",
       "      <td>323.339996</td>\n",
       "    </tr>\n",
       "    <tr>\n",
       "      <th>2022-12-19</th>\n",
       "      <td>131.860001</td>\n",
       "      <td>85.250000</td>\n",
       "      <td>131.279999</td>\n",
       "      <td>177.479996</td>\n",
       "      <td>108.680000</td>\n",
       "      <td>63.848557</td>\n",
       "      <td>318.730011</td>\n",
       "    </tr>\n",
       "    <tr>\n",
       "      <th>2022-12-26</th>\n",
       "      <td>129.929993</td>\n",
       "      <td>84.000000</td>\n",
       "      <td>134.100006</td>\n",
       "      <td>176.649994</td>\n",
       "      <td>110.300003</td>\n",
       "      <td>65.409836</td>\n",
       "      <td>315.859985</td>\n",
       "    </tr>\n",
       "  </tbody>\n",
       "</table>\n",
       "<p>573 rows × 7 columns</p>\n",
       "</div>"
      ],
      "text/plain": [
       "                  AAPL       AMZN         JPM         JNJ         XOM  \\\n",
       "Date                                                                    \n",
       "2012-01-09   14.993214   8.921000   35.919998   65.260002   84.879997   \n",
       "2012-01-16   15.010714   9.546500   37.360001   65.269997   87.489998   \n",
       "2012-01-23   15.974286   9.768500   37.209999   65.559998   85.830002   \n",
       "2012-01-30   16.417143   9.384000   38.279999   65.639999   84.919998   \n",
       "2012-02-06   17.622143   9.277000   37.610001   64.599998   83.800003   \n",
       "...                ...        ...         ...         ...         ...   \n",
       "2022-11-28  147.809998  94.129997  135.160004  178.880005  109.860001   \n",
       "2022-12-05  142.160004  89.089996  132.160004  175.740005  103.540001   \n",
       "2022-12-12  134.509995  87.860001  129.289993  175.669998  104.699997   \n",
       "2022-12-19  131.860001  85.250000  131.279999  177.479996  108.680000   \n",
       "2022-12-26  129.929993  84.000000  134.100006  176.649994  110.300003   \n",
       "\n",
       "                    GE          HD  \n",
       "Date                                \n",
       "2012-01-09  113.132767   43.509998  \n",
       "2012-01-16  114.994293   44.509998  \n",
       "2012-01-23  114.273705   44.869999  \n",
       "2012-01-30  114.213654   45.169998  \n",
       "2012-02-06  113.372963   45.330002  \n",
       "...                ...         ...  \n",
       "2022-11-28   67.822014  327.989990  \n",
       "2022-12-05   63.583138  320.480011  \n",
       "2022-12-12   60.616707  323.339996  \n",
       "2022-12-19   63.848557  318.730011  \n",
       "2022-12-26   65.409836  315.859985  \n",
       "\n",
       "[573 rows x 7 columns]"
      ]
     },
     "execution_count": 2,
     "metadata": {},
     "output_type": "execute_result"
    }
   ],
   "source": [
    "import yfinance as yf\n",
    "import pandas as pd\n",
    "import numpy as np\n",
    "\n",
    "# Define the list of top 8 stocks in different industries (use their Yahoo Finance ticker symbols)\n",
    "stocks = ['AAPL', 'AMZN', 'JPM', 'JNJ', 'XOM', 'GE', 'HD']\n",
    "\n",
    "# Define the date range\n",
    "start_date = '2012-01-08'\n",
    "end_date = '2022-12-31'\n",
    "\n",
    "# Fetch the weekly stock data\n",
    "stock_data = {}\n",
    "for stock in stocks:\n",
    "    stock_data[stock] = yf.download(stock, start=start_date, end=end_date, interval='1wk')\n",
    "\n",
    "# Extract the weekly closing prices\n",
    "weekly_closing_prices = pd.DataFrame()\n",
    "\n",
    "for stock, data in stock_data.items():\n",
    "    weekly_closing_prices[stock] = data['Close']\n",
    "\n",
    "# Save the weekly closing prices to a CSV file\n",
    "weekly_closing_prices.to_csv('weekly_closing_prices_2012_2022.csv', index=True)\n",
    "\n",
    "df_data = weekly_closing_prices\n",
    "print(\"Weekly closing prices from 2012 to 2022 for the top 7 stocks in different industries:\")\n",
    "df_data"
   ]
  },
  {
   "cell_type": "markdown",
   "id": "4909a017-511c-40c0-a1b2-a5b29986292c",
   "metadata": {},
   "source": [
    "# Specify Investor's Profile"
   ]
  },
  {
   "cell_type": "markdown",
   "id": "acd53bd0-08b5-43db-9d5b-c7f6e77380e5",
   "metadata": {},
   "source": [
    "As the investor, we have a few things to set at the first place. They are:\n",
    "- Initial wealth\n",
    "- Estimation horizion $\\widetilde{\\tau}$\n",
    "- Investment horizon $\\tau$\n",
    "- Investor's Objectives\n",
    "- Index of Satisfaction\n",
    "\n",
    "Now, we tackle each of them."
   ]
  },
  {
   "cell_type": "markdown",
   "id": "65a7aa77-7d1f-4159-82dd-0726cd2b4fbf",
   "metadata": {},
   "source": [
    "### Initial Wealth"
   ]
  },
  {
   "cell_type": "markdown",
   "id": "df23cb5c-e29d-4afb-bd06-a015580d0826",
   "metadata": {},
   "source": [
    "This could be any number; however, it has significant impact on the optimal allocations. Here, we just put initial wealth =1000 as a place holder."
   ]
  },
  {
   "cell_type": "code",
   "execution_count": 3,
   "id": "14a76d50-ca15-430f-8bc3-09cf6c261783",
   "metadata": {},
   "outputs": [],
   "source": [
    "initial_wealth = 1000"
   ]
  },
  {
   "cell_type": "markdown",
   "id": "04781ac8-1f40-4beb-9b8c-c21a3866b9e5",
   "metadata": {},
   "source": [
    "### Estimation horizion & Investment horizon "
   ]
  },
  {
   "cell_type": "markdown",
   "id": "eea4897a-ebf9-48be-ac1b-6751332ca98c",
   "metadata": {},
   "source": [
    "Let's suppose estimation $\\widetilde{\\tau}=1$ week and investment horizon is $\\tau=3$ week"
   ]
  },
  {
   "cell_type": "code",
   "execution_count": 4,
   "id": "3b99f0e3-eee3-45f0-91d2-ffde072e5bd8",
   "metadata": {},
   "outputs": [],
   "source": [
    "τ_estimate= 1 # estimation horizon\n",
    "τ_horizon = 3 # investment horizon"
   ]
  },
  {
   "cell_type": "markdown",
   "id": "d55f60a0-46ca-458b-b834-3d45593c642f",
   "metadata": {},
   "source": [
    "### Investor's Objectives"
   ]
  },
  {
   "cell_type": "markdown",
   "id": "11df3745-391c-4493-bcc2-7712160574a8",
   "metadata": {},
   "source": [
    "This is pretty important as it directly affect the allocation scheme. What we have to do is just calculate the mean of $\\mathbf{M}$ and the covariance of $\\mathbf{M}$."
   ]
  },
  {
   "cell_type": "code",
   "execution_count": 5,
   "id": "09edc30e-5c58-4af7-8fd7-6b6e9e24a6aa",
   "metadata": {},
   "outputs": [],
   "source": [
    "def investor_objective(P_mean : 'ndarray'=None , P_Cov : 'ndarray'=None, obj_type : 'string'=None, **kwarg) -> ('ndarray','ndarray'):\n",
    "    \n",
    "    #  To make it compatible with the case where P_mean is in shape (1,n) or (n, 1)\n",
    "    P_mean=P_mean.squeeze()\n",
    "    #  Get the number of asset we are dealing with\n",
    "    num_asset = P_mean.shape[0]\n",
    "    \n",
    "    ####### Absolute Wealth\n",
    "    if obj_type == 'absolute wealth' or obj_type == 'final wealth':\n",
    "        a=np.zeros(num_asset)\n",
    "        B=np.eye(num_asset)\n",
    "        \n",
    "    ####### Relative Wealth   \n",
    "    elif obj_type == 'relative wealth':\n",
    "        # Getting current price and benchmark allocation from **kwarg\n",
    "        for key, value in kwargs.items():\n",
    "            if key=='α_benchmark':\n",
    "                α_benchmark=value\n",
    "            if key=='P_current':\n",
    "                P_current=value\n",
    "        a=np.zeros(num_asset)\n",
    "        B=np.eyes(num_asset)-P_current.T@α_benchmark/α_benchmark.T@P_current\n",
    "    \n",
    "    ####### Net Profits \n",
    "    elif obj_type == 'net profits':\n",
    "        # Getting current price from **kwarg\n",
    "        for key, value in kwargs.items():\n",
    "            if key=='P_current':\n",
    "                P_current=value\n",
    "        a=-P_current\n",
    "        B=np.eyes(num_asset)\n",
    "    \n",
    "    #  Find the corresponding mean and covariance for M\n",
    "    M_mean = a+B@P_mean\n",
    "    M_Cov = B@P_Cov@B.T\n",
    "    return M_mean, M_Cov"
   ]
  },
  {
   "cell_type": "markdown",
   "id": "8c1adf3a-b787-4972-8632-ba7bc1d0f829",
   "metadata": {},
   "source": [
    "### Index of Satisfaction"
   ]
  },
  {
   "cell_type": "markdown",
   "id": "bb0e9fd0-4ec2-4891-9b2c-d93403104436",
   "metadata": {},
   "source": [
    "This is the criteria for us to choose the optimal allocation among all allocations on the effecient frontier, an analog to the risk reversion coefficient as in the classical MVO framework."
   ]
  },
  {
   "cell_type": "code",
   "execution_count": 6,
   "id": "e607f3cc-17d5-4759-bc5b-f1b1d0fd2f93",
   "metadata": {},
   "outputs": [],
   "source": [
    "def certainty_equivalent(λ, α_optimal,μ_P_logN,Σ_P_logN, N_MC):\n",
    "    np.random.seed(66)\n",
    "    sum_Ψ=0\n",
    "    for P_j in np.exp(np.random.multivariate_normal(μ_P_logN.squeeze(),Σ_P_logN, N_MC)):\n",
    "        #print(P_j)\n",
    "        sum_Ψ += (P_j@α_optimal)**((λ-1)/λ)\n",
    "    return (sum_Ψ/N_MC)**(λ/(λ-1))"
   ]
  },
  {
   "cell_type": "markdown",
   "id": "4ba15714-4473-4777-9fc3-16a3fa84116b",
   "metadata": {},
   "source": [
    "# Modeling the market"
   ]
  },
  {
   "cell_type": "markdown",
   "id": "cc3ebacd-ccae-4719-a169-a381cc19b2c4",
   "metadata": {},
   "source": [
    "Sometimes there maybe some missing values in our time series data, and we have to use some method to recover it. Here we introduce the EM algorithm to do that. However, we can always use more ad hoc way to do it like imputing as the price the day before, etc."
   ]
  },
  {
   "cell_type": "code",
   "execution_count": null,
   "id": "09f19715-0658-4546-916b-2d9a111d3d42",
   "metadata": {},
   "outputs": [],
   "source": []
  },
  {
   "cell_type": "markdown",
   "id": "12e2dd3b-41d2-402e-95b2-459afb96b31d",
   "metadata": {},
   "source": [
    "## Market Information"
   ]
  },
  {
   "cell_type": "markdown",
   "id": "9ffb9661-1eb1-4292-ab5c-59f2d3db43f7",
   "metadata": {},
   "source": [
    "Given the raw data that we loaded, we should first speciffy the part of raw data that will be used for estimation. Then, we find the market information such as:\n",
    "- number of assets\n",
    "- current price for all assets\n",
    "- transaction cost\n",
    "- time series for invariants\n",
    "- Estimation for the distribution of invariants\n",
    "- Projection onto the investment horizon"
   ]
  },
  {
   "cell_type": "code",
   "execution_count": 7,
   "id": "9c039e16-a44d-410e-9777-e30e09c5521b",
   "metadata": {},
   "outputs": [
    {
     "data": {
      "text/plain": [
       "(array([[ 14.99321365,   8.92099953,  35.91999817, ...,  84.87999725,\n",
       "         113.13276672,  43.50999832],\n",
       "        [ 15.01071358,   9.54650021,  37.36000061, ...,  87.48999786,\n",
       "         114.99429321,  44.50999832],\n",
       "        [ 15.97428608,   9.76850033,  37.20999908, ...,  85.83000183,\n",
       "         114.27370453,  44.86999893],\n",
       "        ...,\n",
       "        [ 29.12999916,  38.02949905,  87.05000305, ...,  90.70999908,\n",
       "         191.4369812 , 135.05000305],\n",
       "        [ 28.95499992,  37.49349976,  86.29000092, ...,  90.26000214,\n",
       "         189.75559998, 134.08000183],\n",
       "        [ 29.47750092,  39.79949951,  86.12000275, ...,  88.5       ,\n",
       "         189.81564331, 133.52999878]]),\n",
       " (261, 7))"
      ]
     },
     "execution_count": 7,
     "metadata": {},
     "output_type": "execute_result"
    }
   ],
   "source": [
    "date_start_estimation = pd.to_datetime('2012-01-09')  # first considered date\n",
    "date_end_estimation = pd.to_datetime('2017-01-02')  # last date for estimation as well as the current time T\n",
    "\n",
    "# market data for esimation period: \\tilde{t} to T\n",
    "Market_data_estimate = df_data[(df_data.index >= date_start_estimation) & (df_data.index <= date_end_estimation)].values\n",
    "Market_data_estimate, Market_data_estimate.shape"
   ]
  },
  {
   "cell_type": "code",
   "execution_count": 8,
   "id": "3de978e9-e3e4-4c07-bfa9-4ff955d02a66",
   "metadata": {},
   "outputs": [
    {
     "data": {
      "text/plain": [
       "(7,)"
      ]
     },
     "execution_count": 8,
     "metadata": {},
     "output_type": "execute_result"
    }
   ],
   "source": [
    "# number of assets\n",
    "N_assets = Market_data_estimate.shape[1]\n",
    "# number of observations\n",
    "Market_data_estimate.shape[0]\n",
    "\n",
    "# Prices of asset at current time T\n",
    "P_T = Market_data_estimate[-1:].squeeze()\n",
    "P_T.shape"
   ]
  },
  {
   "cell_type": "markdown",
   "id": "27031cf8-0340-4aa3-8c8c-3657aea94155",
   "metadata": {},
   "source": [
    "This transaction cost is when you don't have a inital holding but only initial wealth."
   ]
  },
  {
   "cell_type": "code",
   "execution_count": 9,
   "id": "9790b0a2-0c7f-474a-af33-d735a77801b4",
   "metadata": {},
   "outputs": [],
   "source": [
    "D = np.eye(N_assets)*0.01"
   ]
  },
  {
   "cell_type": "markdown",
   "id": "a7303cff-97a8-4968-83ef-9ca65d9430a4",
   "metadata": {},
   "source": [
    "# Get Invariants"
   ]
  },
  {
   "cell_type": "code",
   "execution_count": 10,
   "id": "1544590d-ac65-43b8-9416-0fd4075066e8",
   "metadata": {},
   "outputs": [
    {
     "name": "stdout",
     "output_type": "stream",
     "text": [
      "In total, we have 7 different invariants for 7 different assets, and we have 260 samples for each asset's invariant.\n"
     ]
    }
   ],
   "source": [
    "# Get market invariants for each asset\n",
    "invariants = np.diff(np.log(Market_data_estimate), axis=0)\n",
    "print(f'In total, we have {invariants.shape[1]} different invariants for {N_assets} different assets, and we have {invariants.shape[0]} samples for each asset\\'s invariant.')"
   ]
  },
  {
   "cell_type": "markdown",
   "id": "d902648f-f7ff-4ae1-a889-635c918d40d0",
   "metadata": {},
   "source": [
    "### Sanity Check: Split Plot"
   ]
  },
  {
   "cell_type": "markdown",
   "id": "5f1db418-be61-4834-8b51-20a70c012ebe",
   "metadata": {},
   "source": [
    "We split the invariants for one of the assets in half and plot both histograms. By the definition of invariants, the two histograms should look somewhat alike."
   ]
  },
  {
   "cell_type": "code",
   "execution_count": 11,
   "id": "5af20e11-0a07-45fa-a248-2bad5a169474",
   "metadata": {},
   "outputs": [
    {
     "data": {
      "text/plain": [
       "(1, 130)"
      ]
     },
     "execution_count": 11,
     "metadata": {},
     "output_type": "execute_result"
    }
   ],
   "source": [
    "pick_index = np.random.choice(range(N_assets))\n",
    "invariants_split_plot = invariants[:, pick_index]\n",
    "half_point = int(invariants.shape[0]/2)\n",
    "pick_index, half_point"
   ]
  },
  {
   "cell_type": "code",
   "execution_count": 12,
   "id": "b59bf91f-c3cc-4ee4-a7d7-fe70e93b2d03",
   "metadata": {},
   "outputs": [
    {
     "data": {
      "text/plain": [
       "(array([ 2.,  4.,  2.,  7.,  9., 10., 20., 13., 13., 12., 11.,  9.,  8.,\n",
       "         5.,  3.,  0.,  0.,  1.,  0.,  0.,  0.,  0.,  0.,  0.,  1.]),\n",
       " array([-0.07751535, -0.06731992, -0.0571245 , -0.04692908, -0.03673365,\n",
       "        -0.02653823, -0.01634281, -0.00614739,  0.00404804,  0.01424346,\n",
       "         0.02443888,  0.0346343 ,  0.04482973,  0.05502515,  0.06522057,\n",
       "         0.07541599,  0.08561142,  0.09580684,  0.10600226,  0.11619769,\n",
       "         0.12639311,  0.13658853,  0.14678395,  0.15697938,  0.1671748 ,\n",
       "         0.17737022]),\n",
       " <BarContainer object of 25 artists>)"
      ]
     },
     "execution_count": 12,
     "metadata": {},
     "output_type": "execute_result"
    },
    {
     "data": {
      "image/png": "[encoded data removed]",
      "text/plain": [
       "<Figure size 432x288 with 1 Axes>"
      ]
     },
     "metadata": {
      "needs_background": "light"
     },
     "output_type": "display_data"
    }
   ],
   "source": [
    "plt.hist(invariants_split_plot[:half_point], bins=25)"
   ]
  },
  {
   "cell_type": "code",
   "execution_count": 13,
   "id": "b70cf1af-9d8c-440b-8b8d-bdb43f956d92",
   "metadata": {},
   "outputs": [
    {
     "data": {
      "text/plain": [
       "(array([ 1.,  0.,  0.,  1.,  1.,  1.,  1.,  5.,  3.,  7., 20., 16., 19.,\n",
       "        19., 13.,  9.,  8.,  1.,  2.,  1.,  0.,  1.,  0.,  0.,  1.]),\n",
       " array([-0.15616576, -0.1431239 , -0.13008204, -0.11704018, -0.10399832,\n",
       "        -0.09095647, -0.07791461, -0.06487275, -0.05183089, -0.03878903,\n",
       "        -0.02574717, -0.01270532,  0.00033654,  0.0133784 ,  0.02642026,\n",
       "         0.03946212,  0.05250397,  0.06554583,  0.07858769,  0.09162955,\n",
       "         0.10467141,  0.11771327,  0.13075512,  0.14379698,  0.15683884,\n",
       "         0.1698807 ]),\n",
       " <BarContainer object of 25 artists>)"
      ]
     },
     "execution_count": 13,
     "metadata": {},
     "output_type": "execute_result"
    },
    {
     "data": {
      "image/png": "[encoded data removed]",
      "text/plain": [
       "<Figure size 432x288 with 1 Axes>"
      ]
     },
     "metadata": {
      "needs_background": "light"
     },
     "output_type": "display_data"
    }
   ],
   "source": [
    "plt.hist(invariants_split_plot[half_point:], bins=25)"
   ]
  },
  {
   "cell_type": "markdown",
   "id": "951cac99-755e-4893-ae93-1915440f0b3d",
   "metadata": {},
   "source": [
    "### Sanity Check: Lag-Plot"
   ]
  },
  {
   "cell_type": "markdown",
   "id": "9c4f9dbe-21f1-48a2-85aa-f62022307528",
   "metadata": {},
   "source": [
    "It's should look like the multivariate normal distribution."
   ]
  },
  {
   "cell_type": "code",
   "execution_count": 14,
   "id": "14b29a93-ec76-4403-abb6-a1639fba278b",
   "metadata": {},
   "outputs": [
    {
     "data": {
      "text/plain": [
       "<AxesSubplot:xlabel='y(t)', ylabel='y(t + 1)'>"
      ]
     },
     "execution_count": 14,
     "metadata": {},
     "output_type": "execute_result"
    },
    {
     "data": {
      "image/png": "[encoded data removed]",
      "text/plain": [
       "<Figure size 432x288 with 1 Axes>"
      ]
     },
     "metadata": {
      "needs_background": "light"
     },
     "output_type": "display_data"
    }
   ],
   "source": [
    "# Lag-Plot all the samples for one of the asset's invariant\n",
    "# We should see a roughly normally distributed dataset\n",
    "pd.plotting.lag_plot(pd.Series(invariants[:,2]), lag=1)"
   ]
  },
  {
   "cell_type": "markdown",
   "id": "7724af2d-0a6d-41ed-a359-f0d005779ba7",
   "metadata": {},
   "source": [
    "# Estimate the distribution of invariants"
   ]
  },
  {
   "cell_type": "markdown",
   "id": "cd6338cf-bac5-4263-a52b-69a46ae626ea",
   "metadata": {},
   "source": [
    "## Different Estimators"
   ]
  },
  {
   "cell_type": "markdown",
   "id": "4d477e47-f156-4fa3-b27c-6951187d81fc",
   "metadata": {},
   "source": [
    "### Sample Estimators"
   ]
  },
  {
   "cell_type": "markdown",
   "id": "e6fb44d0-2b15-417e-a343-5d278988cc8b",
   "metadata": {},
   "source": [
    "$$\n",
    "\\widehat{\\mathbf{m}} \\equiv \\frac{1}{T} \\sum_{t=1}^T \\mathbf{c}_{t, \\tilde{\\tau}}, \\quad \\widehat{\\mathbf{S}} \\equiv \\frac{1}{T} \\sum_{t=1}^T\\left(\\mathbf{c}_{t, \\tilde{\\tau}}-\\widehat{\\mathbf{m}}\\right)\\left(\\mathbf{c}_{t, \\tilde{\\tau}}-\\widehat{\\mathbf{m}}\\right)^{\\top} .\n",
    "$$"
   ]
  },
  {
   "cell_type": "code",
   "execution_count": 15,
   "id": "9c6b9ca4-29f6-42c8-b801-6d461bc3edbe",
   "metadata": {},
   "outputs": [],
   "source": [
    "def cal_mean_cov(ndarray: np.ndarray):\n",
    "    '''\n",
    "    Input: ndarray where each column represents the total samples for each invariant\n",
    "    \n",
    "    Sample mean and sample covariance\n",
    "    '''\n",
    "    #  compute the mean\n",
    "    mean = np.mean(ndarray, axis=0)\n",
    "    #  compute the covariance\n",
    "    cov = (1/ndarray.shape[0])*np.matmul((ndarray-mean).T, (ndarray-mean))\n",
    "    \n",
    "    return mean, cov"
   ]
  },
  {
   "cell_type": "markdown",
   "id": "09753c84-f0e1-4d83-ab56-2ff828769f99",
   "metadata": {},
   "source": [
    "Suppose we have the sample mean and the sample covariance matrix:\n",
    "$$\n",
    "\\widehat{\\mathbf{m}} \\equiv \\frac{1}{T} \\sum_{t=1}^T \\mathbf{c}_{t, \\tilde{\\tau}}, \\quad \\widehat{\\mathbf{S}} \\equiv \\frac{1}{T} \\sum_{t=1}^T\\left(\\mathbf{c}_{t, \\tilde{\\tau}}-\\widehat{\\mathbf{m}}\\right)\\left(\\mathbf{c}_{t, \\tilde{\\tau}}-\\widehat{\\mathbf{m}}\\right)^{\\top} .\n",
    "$$\n",
    " We then shrink the covariance matrix toward a spherical estimator:\n",
    "$$\n",
    "\\widehat{\\mathbf{\\Sigma}} \\equiv(1-\\epsilon) \\widehat{\\mathbf{S}}+\\frac{\\epsilon}{N} \\sum_{n=1}^N \\widehat{S}_{n n} \\mathbf{I}_N\n",
    "$$\n",
    "where from  the shrinkage weight reads:\n",
    "$$\n",
    "\\epsilon \\equiv \\frac{1}{T} \\frac{\\frac{1}{T} \\sum_{t=1}^T \\operatorname{tr}\\left\\{\\left(\\mathbf{c}_{t, \\tilde{\\tau}} \\mathbf{c}_{t, \\tilde{\\tau}}^{\\top}-\\widehat{\\mathbf{S}}\\right)^2\\right\\}}{\\operatorname{tr}\\left\\{\\left(\\widehat{\\mathbf{S}}-\\frac{1}{N} \\sum_{n=1}^N \\widehat{S}_{n n} \\mathbf{I}_N\\right)^2\\right\\}}\n",
    "$$\n",
    "Finally, we shrink the sample mean towards a target vector:\n",
    "$$\n",
    "\\widehat{\\boldsymbol{\\mu}} \\equiv(1-\\gamma) \\widehat{\\mathbf{m}}+\\gamma \\mathbf{b}\n",
    "$$\n",
    "In this expression the shrinkage target follows from:\n",
    "$$\n",
    "\\mathbf{b} \\equiv \\frac{\\mathbf{1}^{\\top} \\widehat{\\mathbf{\\Sigma}}^{-1} \\widehat{\\mathbf{m}}}{\\mathbf{1}^{\\top} \\widehat{\\mathbf{\\Sigma}}^{-1} \\mathbf{1}} \\mathbf{1}, \\quad \\gamma \\equiv \\frac{1}{T} \\frac{\\sum_{n=1}^N \\widehat{\\Sigma}_{n n}-2 \\lambda_1}{(\\widehat{\\mathbf{m}}-\\mathbf{b})^{\\top}(\\widehat{\\mathbf{m}}-\\mathbf{b})}\n",
    "$$\n",
    "where $\\lambda_1$ is the highest eigenvalue of $\\widehat{\\Sigma}$."
   ]
  },
  {
   "cell_type": "code",
   "execution_count": 16,
   "id": "a8ee9328-15ed-4009-8558-8f32a97ba57f",
   "metadata": {},
   "outputs": [],
   "source": [
    "def shrinkage_mean_cov(ndarray: 'np.array'):\n",
    "    \"\"\"\n",
    "    Input: ndarray where each column represents the total samples for each invariant\n",
    "\n",
    "    Sample mean and sample covariance\n",
    "    \"\"\"\n",
    "    # number of observations\n",
    "    N_obs = ndarray.shape[0]\n",
    "    # number of invariants \n",
    "    N_invariants = ndarray.shape[1]\n",
    "    \n",
    "    #  compute the mean\n",
    "    mean = np.mean(ndarray, axis=0)\n",
    "    #  compute the covariance\n",
    "    cov = (1/ndarray.shape[0])*np.matmul((ndarray-mean).T, (ndarray-mean))\n",
    "    \n",
    "    ########### Get shrinkage covariance\n",
    "    # Compute epsilon\n",
    "    numerator = 0\n",
    "    for i in range(N_obs):\n",
    "        numerator += np.trace((ndarray[i, :]@ndarray[i, :].T - cov)@(ndarray[i, :]@ndarray[i, :].T - cov))/N_obs\n",
    "        \n",
    "    denominator = 0\n",
    "    for i in range(N_invariants):\n",
    "        denominator += np.trace((cov-np.eye(N_invariants)*(cov[i, i]/N_invariants))@(cov-np.eye(N_invariants)*(cov[i, i]/N_invariants)))\n",
    "    \n",
    "    epsilon = (1/N_obs) * numerator/denominator\n",
    "    \n",
    "    cov_shrinkage = (1-epsilon)*cov + (epsilon/N_invariants)*np.trace(cov)*np.eye(N_invariants)\n",
    "    \n",
    "    ########### Get shrinkage mean\n",
    "    e = np.ones(N_invariants)\n",
    "    b = (e.T@np.linalg.inv(cov_shrinkage)@mean / (e.T@np.linalg.inv(cov_shrinkage)@e))*e\n",
    "    largest_eigenvalue = np.amax(np.linalg.eigvals(cov_shrinkage))\n",
    "    gamma = (np.trace(cov_shrinkage)-2*largest_eigenvalue)/((mean-b).T@(mean-b))/N_obs\n",
    "    \n",
    "    mean_shrinkage = (1-gamma)*mean + gamma*b\n",
    "    return mean_shrinkage, cov_shrinkage"
   ]
  },
  {
   "cell_type": "code",
   "execution_count": 17,
   "id": "68e02fe3-ea71-4ddd-b351-59d1f1d2d735",
   "metadata": {},
   "outputs": [
    {
     "name": "stdout",
     "output_type": "stream",
     "text": [
      "The vector of estimated mean of the invariants is: \n",
      " [0.00260011 0.00575172 0.00336326 0.00222228 0.00016063 0.00199035\n",
      " 0.00431283] \n",
      "\n",
      "The estimated covariance of the invariants is: \n",
      " [[1.37855008e-03 4.01067244e-04 3.23215668e-04 9.05870783e-05\n",
      "  1.40985260e-04 2.50060949e-04 2.47962978e-04]\n",
      " [4.01067244e-04 1.60734799e-03 3.17090728e-04 2.00761430e-04\n",
      "  1.83692827e-04 3.10536226e-04 4.01805650e-04]\n",
      " [3.23215668e-04 3.17090728e-04 9.50427830e-04 2.49088823e-04\n",
      "  3.34963125e-04 4.43534475e-04 4.03875691e-04]\n",
      " [9.05870783e-05 2.00761430e-04 2.49088823e-04 3.15078507e-04\n",
      "  1.90869061e-04 2.17373117e-04 2.14826373e-04]\n",
      " [1.40985260e-04 1.83692827e-04 3.34963125e-04 1.90869061e-04\n",
      "  5.08752237e-04 3.24676858e-04 2.20589067e-04]\n",
      " [2.50060949e-04 3.10536226e-04 4.43534475e-04 2.17373117e-04\n",
      "  3.24676858e-04 6.41746537e-04 2.75705322e-04]\n",
      " [2.47962978e-04 4.01805650e-04 4.03875691e-04 2.14826373e-04\n",
      "  2.20589067e-04 2.75705322e-04 6.30767120e-04]]\n"
     ]
    }
   ],
   "source": [
    "# estimate sample mean and sample covariance\n",
    "μ_X, Σ_X = cal_mean_cov(invariants)\n",
    "\n",
    "print('The vector of estimated mean of the invariants is: \\n', μ_X, '\\n')\n",
    "print('The estimated covariance of the invariants is: \\n', Σ_X)"
   ]
  },
  {
   "cell_type": "markdown",
   "id": "47d409b2-299e-4f22-9c61-363ce1e70b05",
   "metadata": {},
   "source": [
    "# Projection onto the investment horizon"
   ]
  },
  {
   "cell_type": "markdown",
   "id": "2719edfe-dfc4-48dd-896e-86b6460c7b10",
   "metadata": {},
   "source": [
    "Since all of our invariants are specifically chosen to be in the form of differences, they are additive, i.e. they satisfy the following relation:\n",
    "$$\n",
    "\\mathbf{X}_{T+\\tau, \\tau}=\\mathbf{X}_{T+\\tau, \\tilde{\\tau}}+\\mathbf{X}_{T+\\tau-\\tilde{\\tau}, \\tilde{\\tau}}+\\cdots+\\mathbf{X}_{T+\\tilde{\\tau}, \\tilde{\\tau}} .\n",
    "$$\n",
    "Also, since the terms in the right-hand side of the equation above are invariants relative to non-overlapping time intervals, they are , by choice, independent and identically distributed random variables. Therefore, we must have\n",
    "$$\n",
    "\\phi_{\\mathbf{X}_{T+\\tau, \\tau}}=\\left(\\phi_{\\mathbf{X}_{t, \\tilde{\\tau}}}\\right)^{\\frac{\\tau}{\\tau}} \\Longleftrightarrow \n",
    "\\mathbf{X}_{T+\\tau, \\tau} \\sim \\mathcal{N}\\left(\\frac{\\tau}{\\widetilde{\\tau}} \\widehat{\\boldsymbol{\\mu}}, \\frac{\\tau}{\\widetilde{\\tau}} \\widehat{\\boldsymbol{\\Sigma}}\\right) \n",
    "$$"
   ]
  },
  {
   "cell_type": "code",
   "execution_count": 18,
   "id": "cb6c9c98-9325-4fc0-921d-c5a14dafa0e8",
   "metadata": {},
   "outputs": [
    {
     "data": {
      "text/plain": [
       "(7,)"
      ]
     },
     "execution_count": 18,
     "metadata": {},
     "output_type": "execute_result"
    }
   ],
   "source": [
    "# Project the invariants to the investment horizon\n",
    "μ_X_invest_horizon = (τ_horizon/τ_estimate)*μ_X\n",
    "Σ_X_invest_horizon = (τ_horizon/τ_estimate)*Σ_X\n",
    "μ_X_invest_horizon.shape"
   ]
  },
  {
   "cell_type": "markdown",
   "id": "727f24ae-4a17-4b83-9c18-7b7cd43b5d25",
   "metadata": {},
   "source": [
    "# Map invariants to Prices"
   ]
  },
  {
   "cell_type": "markdown",
   "id": "677d7663-d408-4d58-848d-6b5cdff1aea7",
   "metadata": {},
   "source": [
    "$$\n",
    "P_{T+\\tau}=P_T e^X\n",
    "$$\n",
    "Since we are dealing with raw securities, the pricing function has the following simple form:\n",
    "$$\n",
    "\\mathbf{P}=e^{\\mathbf{Y}}\n",
    "$$\n",
    "where the ancillary variable $\\mathbf{Y}$ is an affine transformation of the market invariants:\n",
    "$$\n",
    "\\mathbf{Y} \\equiv \\gamma+\\operatorname{diag}(\\varepsilon) \\mathbf{X}\n",
    "$$\n",
    "where \n",
    "$\\gamma_n \\equiv\\ln \\left(P_T\\right)$ and$\\varepsilon_n \\equiv1$."
   ]
  },
  {
   "cell_type": "code",
   "execution_count": 19,
   "id": "15f1044e-c0c3-40b9-90c9-191d796a2cd0",
   "metadata": {},
   "outputs": [],
   "source": [
    "# Construct appropriate \\gamma and \\epsilon for the given type of assets\n",
    "γ=np.log(P_T)\n",
    "\n",
    "E=np.diagflat(np.ones(N_assets))"
   ]
  },
  {
   "cell_type": "markdown",
   "id": "f368dbd3-9298-4370-984c-1bc31248c848",
   "metadata": {},
   "source": [
    "If $\\boldsymbol{X} \\sim \\mathcal{N}(\\boldsymbol{\\mu}, \\boldsymbol{\\Sigma})$ is a multivariate normal distribution, then $Y_i=\\exp \\left(X_i\\right)$ has a multivariate log-normal distribution. The exponential is applied elementwise to the random vector $\\boldsymbol{X}$. The mean of $\\boldsymbol{Y}$ is\n",
    "$$\n",
    "\\mathrm{E}[\\boldsymbol{Y}]_i=e^{\\mu_i+\\frac{1}{2} \\Sigma_{i i}}\n",
    "$$\n",
    "and its covariance matrix is\n",
    "$$\n",
    "\\operatorname{Var}[\\boldsymbol{Y}]_{i j}=e^{\\mu_i+\\mu_j+\\frac{1}{2}\\left(\\Sigma_{i i}+\\Sigma_{j j}\\right)}\\left(e^{\\Sigma_{i j}}-1\\right)\n",
    "$$\n",
    "Then, we have the distribution for $\\mathbf{P}$."
   ]
  },
  {
   "cell_type": "code",
   "execution_count": 20,
   "id": "45b5fc35-cb53-471c-bf56-8890edd8e27f",
   "metadata": {},
   "outputs": [
    {
     "name": "stdout",
     "output_type": "stream",
     "text": [
      "(7,)\n",
      "(7,)\n"
     ]
    },
    {
     "data": {
      "text/plain": [
       "array([[ 3.67277954,  1.45477095,  2.51597142,  0.9477706 ,  1.11595618,\n",
       "         4.27021409,  2.99954139],\n",
       "       [ 1.45477095,  7.96371523,  3.36538706,  2.86438377,  1.98260237,\n",
       "         7.23098758,  6.62867094],\n",
       "       [ 2.51597142,  3.36538706, 21.67054991,  7.6282207 ,  7.76114107,\n",
       "        22.17103574, 14.30033073],\n",
       "       [ 0.9477706 ,  2.86438377,  7.6282207 , 12.97495982,  5.94491257,\n",
       "        14.60468911, 10.22440463],\n",
       "       [ 1.11595618,  1.98260237,  7.76114107,  5.94491257, 11.99297712,\n",
       "        16.50484111,  7.94221776],\n",
       "       [ 4.27021409,  7.23098758, 22.17103574, 14.60468911, 16.50484111,\n",
       "        70.40271867, 21.41401712],\n",
       "       [ 2.99954139,  6.62867094, 14.30033073, 10.22440463,  7.94221776,\n",
       "        21.41401712, 34.72314115]])"
      ]
     },
     "execution_count": 20,
     "metadata": {},
     "output_type": "execute_result"
    }
   ],
   "source": [
    "# Project the investment horizon invariants to prices of assets at investment horizon\n",
    "# Notice: the prices of assets at investment horizon P_{T+τ} ~ logNormal(μ_P_logN, Σ_P_logN)\n",
    "μ_P_logN=(γ+E@μ_X_invest_horizon).squeeze()\n",
    "Σ_P_logN=E@Σ_X_invest_horizon@E\n",
    "print(μ_P_logN.shape)\n",
    "# Find the mean and covariance matrix for P_{T+τ}\n",
    "μ_P = np.exp( μ_P_logN + 0.5*Σ_P_logN.diagonal() )\n",
    "print(μ_P.shape)\n",
    "Σ_P = np.zeros((N_assets, N_assets))\n",
    "for i in range(N_assets):\n",
    "    for j in range(N_assets):\n",
    "        Σ_P[i,j] = np.exp(μ_P_logN[i]+μ_P_logN[j]+0.5*(Σ_P_logN[i,i]+Σ_P_logN[j,j]))*(np.exp(Σ_P_logN[i,j])-1)\n",
    "Σ_P"
   ]
  },
  {
   "cell_type": "markdown",
   "id": "4acf9336-8f0d-47cf-a49b-54c9ceca4fdb",
   "metadata": {},
   "source": [
    "### Mapping the distribution of P to a more general variable M"
   ]
  },
  {
   "cell_type": "markdown",
   "id": "7c47e03a-36dc-4022-b314-8456e3f4d3ac",
   "metadata": {},
   "source": [
    "This is optional, since $\\mathbf{M}\\equiv\\mathbf{P}$ in the context of raw securities.\n",
    "\n",
    "But, we can still do a santiy check and should see their mean and variance are identical."
   ]
  },
  {
   "cell_type": "code",
   "execution_count": 21,
   "id": "52bfdf92-dfc8-42cc-a823-c92138d5aed7",
   "metadata": {},
   "outputs": [
    {
     "data": {
      "text/plain": [
       "(array([ 29.76982982,  40.58995041,  87.11744276, 117.13329439,\n",
       "         88.61025304, 191.13633618, 135.39694517]),\n",
       " array([ 29.76982982,  40.58995041,  87.11744276, 117.13329439,\n",
       "         88.61025304, 191.13633618, 135.39694517]),\n",
       " array([[ 3.67277954,  1.45477095,  2.51597142,  0.9477706 ,  1.11595618,\n",
       "          4.27021409,  2.99954139],\n",
       "        [ 1.45477095,  7.96371523,  3.36538706,  2.86438377,  1.98260237,\n",
       "          7.23098758,  6.62867094],\n",
       "        [ 2.51597142,  3.36538706, 21.67054991,  7.6282207 ,  7.76114107,\n",
       "         22.17103574, 14.30033073],\n",
       "        [ 0.9477706 ,  2.86438377,  7.6282207 , 12.97495982,  5.94491257,\n",
       "         14.60468911, 10.22440463],\n",
       "        [ 1.11595618,  1.98260237,  7.76114107,  5.94491257, 11.99297712,\n",
       "         16.50484111,  7.94221776],\n",
       "        [ 4.27021409,  7.23098758, 22.17103574, 14.60468911, 16.50484111,\n",
       "         70.40271867, 21.41401712],\n",
       "        [ 2.99954139,  6.62867094, 14.30033073, 10.22440463,  7.94221776,\n",
       "         21.41401712, 34.72314115]]),\n",
       " array([[ 3.67277954,  1.45477095,  2.51597142,  0.9477706 ,  1.11595618,\n",
       "          4.27021409,  2.99954139],\n",
       "        [ 1.45477095,  7.96371523,  3.36538706,  2.86438377,  1.98260237,\n",
       "          7.23098758,  6.62867094],\n",
       "        [ 2.51597142,  3.36538706, 21.67054991,  7.6282207 ,  7.76114107,\n",
       "         22.17103574, 14.30033073],\n",
       "        [ 0.9477706 ,  2.86438377,  7.6282207 , 12.97495982,  5.94491257,\n",
       "         14.60468911, 10.22440463],\n",
       "        [ 1.11595618,  1.98260237,  7.76114107,  5.94491257, 11.99297712,\n",
       "         16.50484111,  7.94221776],\n",
       "        [ 4.27021409,  7.23098758, 22.17103574, 14.60468911, 16.50484111,\n",
       "         70.40271867, 21.41401712],\n",
       "        [ 2.99954139,  6.62867094, 14.30033073, 10.22440463,  7.94221776,\n",
       "         21.41401712, 34.72314115]]))"
      ]
     },
     "execution_count": 21,
     "metadata": {},
     "output_type": "execute_result"
    }
   ],
   "source": [
    "M_mean, M_Cov = investor_objective(P_mean=μ_P, P_Cov=Σ_P, obj_type='absolute wealth')\n",
    "M_mean, μ_P, Σ_P, M_Cov"
   ]
  },
  {
   "cell_type": "markdown",
   "id": "810c1279-b3d2-4466-b3ee-e116d1bbff27",
   "metadata": {},
   "source": [
    "# Allocation Models"
   ]
  },
  {
   "cell_type": "markdown",
   "id": "c7ac5e62-4c53-4d62-9e80-4053549ac2bc",
   "metadata": {
    "tags": []
   },
   "source": [
    "## MVO (single period)"
   ]
  },
  {
   "cell_type": "markdown",
   "id": "10bfec9b-517a-4d01-bd6a-d492bf1ea2e3",
   "metadata": {},
   "source": [
    "We formulate the investor's constraints as\n",
    "- **budget constraint:**\n",
    "    $$\n",
    "\\mathcal{C}_1: \\boldsymbol{\\alpha}^{\\top} \\mathbf{p}_T \\leq W_T-\\boldsymbol{\\alpha}^{\\top} \\mathbf{D}\\boldsymbol{\\alpha}\n",
    "$$where $W_T$ is his capital at the time where the investor makes his investment decisions.\n",
    "- **Long-only Constraint:**\n",
    "$$\n",
    "\\mathcal{C}_2: \\boldsymbol{\\alpha} \\geq \\mathbf{0}\n",
    "$$\n",
    "\n",
    "\n",
    "**Step 2: Construct the MVO framework.** Fitting the constraints into the mean-variance framework, we have \n",
    "$$\n",
    "\\begin{aligned}\n",
    "& \\boldsymbol{\\alpha}^{(i)} \\equiv \\arg\\max_{\\boldsymbol{\\alpha}}\\boldsymbol{\\alpha}^{\\top} \\mathbb{E}\\left\\{\\mathbf{P}_{T+\\tau}\\right\\} \\\\\n",
    "& \\text { subject to }\\left\\{\\begin{array}{l}\n",
    "\\boldsymbol{\\alpha}^{\\top} \\operatorname{Cov}\\left\\{\\mathbf{P}_{T+\\tau}\\right\\} \\boldsymbol{\\alpha} \\leq v^{(i)} \\\\\n",
    "\\boldsymbol{\\alpha}^{\\top} \\mathbf{p}_T \\leq w-\\boldsymbol{\\alpha}^{\\top} \\mathbf{D} \\boldsymbol{\\alpha} \\\\\n",
    "\\boldsymbol{\\alpha} \\geq \\mathbf{0} .\n",
    "\\end{array}\\right.\n",
    "\\end{aligned}\n",
    "$$\n",
    "\n",
    "**Step 3: Compute the efficient frontier.** \n",
    "We choose a grid of $I \\equiv 100$ target variances $\\left\\{v^{(1)}, \\ldots, v^{(I)}\\right\\}$ and solve numerically each time the above optimization. We define $risk=\\boldsymbol{\\alpha}^{\\top} \\operatorname{Cov}\\left\\{\\mathbf{P}_{T+\\tau}\\right\\} \\boldsymbol{\\alpha}$ and $reward=\\boldsymbol{\\alpha}^{\\top} \\mathbb{E}\\left\\{\\mathbf{P}_{T+\\tau}\\right\\}$.\n",
    "\n",
    "Each optimization is a quadratically constrained linear programming problem which is a subproblem of the Second-Order Cone Programming (SOCP) problem, so it can be easily solved using the ''CVXOPT'' package. \n",
    "\n",
    "**Step 4: Determine the optimal allocation.**\n",
    "\n",
    "Since the investor uses the index of satisfaction as a metric for evaluating allocations, we can determine the optimal allocation accordingly as the optimal allocation is the portfolio that gives rise to the higher level of satisfaction. \n",
    "\n",
    "To determine this portfolio we use Monte Carlo simulations. We simulate a large number $J$ of Monte Carlo market scenarios as follows:\n",
    "$$\n",
    "{ }_j \\mathbf{P}_{T+\\tau} \\equiv \\operatorname{diag}\\left(\\mathbf{p}_T\\right) e^j \\mathbf{C}\n",
    "$$\n",
    "where the exponential acts component-wise and where each vector ${ }_j \\mathbf{C}$ is an independent drawing from the multivariate normal distribution for all $j=1, \\ldots, J$. In our example we perform $J=100$.\n",
    "\n",
    "We compute the following approximation for all the mean-variance efficient portfolios in the grid:\n",
    "$$\n",
    "\\widetilde{\\mathcal{S}}\\left(\\boldsymbol{\\alpha}^{(i)}\\right) \\equiv \\left(\\frac{1}{J}\\sum_{j=1}^J\\left({ }_j \\mathbf{P}_{T+\\tau}^{\\prime} \\boldsymbol{\\alpha}^{(i)}\\right)^{\\frac{\\gamma-1}{\\gamma}}\\right)^{\\frac{\\gamma}{\\gamma-1}} \n",
    "$$"
   ]
  },
  {
   "cell_type": "markdown",
   "id": "3747a08b-c131-4b23-aa02-54566d770124",
   "metadata": {},
   "source": [
    "### Find the mean-variance frontier"
   ]
  },
  {
   "cell_type": "code",
   "execution_count": 22,
   "id": "32812001-7e7b-4026-ac50-2edb6c9f9173",
   "metadata": {},
   "outputs": [],
   "source": [
    "# low bound, upper bound, and step size for a range of target variances\n",
    "v_inf=1\n",
    "v_sup=100\n",
    "v_step=1\n",
    "\n",
    "# lists that store reward, risk, optimal_allocations (efficient frontier), and \n",
    "# optimal_allocations in relative weigths\n",
    "reward = []\n",
    "risk = []\n",
    "α_optimal_list = []\n",
    "weights_optimal_list = []\n",
    "\n",
    "# number of iterations for Monte-Carlo Scheme\n",
    "N_MC=100\n",
    "# list that stores the values of index of satisfactions for each optimal_allocation\n",
    "S_α_list=[]\n",
    "\n",
    "for target_variances_i in np.arange(v_inf, v_sup, v_step):\n",
    "    \n",
    "    ######## Set objective coefficient c\n",
    "    c_objective= cvxopt.matrix(-μ_P.T)\n",
    "    \n",
    "    ######## Set Constriants\n",
    "    # Linear (Long-only) Constraint\n",
    "    G_0 = cvxopt.matrix(-np.eye(N_assets))\n",
    "    h_0 = cvxopt.matrix(np.zeros(N_assets).reshape(-1,1))\n",
    "\n",
    "    # Quadratic (Risk) Constraint\n",
    "    L_transpose_Σ=np.linalg.cholesky(Σ_P)\n",
    "    G_1 = cvxopt.matrix(np.r_[np.zeros(N_assets).reshape(1,-1), -L_transpose_Σ.T])\n",
    "    h_1 = cvxopt.matrix(np.r_[np.array([target_variances_i]).reshape(-1,1), np.zeros(N_assets).reshape(-1,1)])\n",
    "\n",
    "    # Quadratic (Budget) Constraint\n",
    "    L_transpose_D=np.linalg.cholesky(D)\n",
    "    G_2 = cvxopt.matrix(np.r_[P_T.reshape(1,-1), -L_transpose_D.T])\n",
    "    h_2 = cvxopt.matrix(np.r_[np.array([initial_wealth]).reshape(-1,1), np.zeros(N_assets).reshape(-1,1)])\n",
    "\n",
    "    # Aggregate all the constraints that are not componentwise vector inequalities,i.e., all constraints except G_0, h_0\n",
    "    G = [G_1, G_2]\n",
    "    h = [h_1, h_2]\n",
    "    \n",
    "    ######## Solve for optimal allocation\n",
    "    cvxopt.solvers.options['show_progress'] = False\n",
    "    α_optimal = np.array(cvxopt.solvers.socp(c=c_objective, Gl = G_0, hl = h_0, Gq = G, hq = h)['x']).squeeze()\n",
    "    α_optimal_list.append(α_optimal)\n",
    "    \n",
    "    # convert the optimal allocation to relative weights and\n",
    "    # store it in weights_optimal_list\n",
    "    w_optimal = np.diagflat(α_optimal)@P_T.T/(P_T@α_optimal)\n",
    "    weights_optimal_list.append(w_optimal)\n",
    "    \n",
    "    # compute the corresponding certainty equivalent and \n",
    "    # store it in S_α_list\n",
    "    S_α_list.append(certainty_equivalent(-9, α_optimal,μ_P_logN,Σ_P_logN, N_MC))\n",
    "    \n",
    "    # compute the corresponding reward and risk\n",
    "    reward.append(α_optimal@μ_P.squeeze())\n",
    "    risk.append(α_optimal@Σ_P@α_optimal)"
   ]
  },
  {
   "cell_type": "markdown",
   "id": "4c198cb8-fee2-4692-a4f1-4081b54179e9",
   "metadata": {},
   "source": [
    "## Plot the optimal allocations "
   ]
  },
  {
   "cell_type": "markdown",
   "id": "2175b503-ae7c-4b9a-9bce-703b758c1edd",
   "metadata": {
    "tags": []
   },
   "source": [
    "### Optimal allocations in realtive weights"
   ]
  },
  {
   "cell_type": "code",
   "execution_count": 23,
   "id": "a5ceec15-42ae-49f3-9620-30360b522593",
   "metadata": {},
   "outputs": [
    {
     "data": {
      "text/plain": [
       "Text(0.5, 0, 'variance of objectives')"
      ]
     },
     "execution_count": 23,
     "metadata": {},
     "output_type": "execute_result"
    },
    {
     "data": {
      "image/png": "[encoded data removed]",
      "text/plain": [
       "<Figure size 432x288 with 1 Axes>"
      ]
     },
     "metadata": {
      "needs_background": "light"
     },
     "output_type": "display_data"
    }
   ],
   "source": [
    "weights_optimal_list_cumulative = []\n",
    "for i in range(N_assets):\n",
    "    temp = np.zeros(np.array(weights_optimal_list).shape[0])\n",
    "    for j in range(i):\n",
    "        temp += np.array(weights_optimal_list)[:,j]\n",
    "    weights_optimal_list_cumulative.append(temp)\n",
    "#print(np.array(weights_optimal_list_cumulative).T)\n",
    "for i in range(N_assets):\n",
    "    plt.scatter(risk, np.array(weights_optimal_list_cumulative).T[:,i], s= 3)\n",
    "plt.title('Allocation in relative portfolio weights')\n",
    "plt.ylabel('relative portfolio weights')\n",
    "plt.xlabel('variance of objectives')"
   ]
  },
  {
   "cell_type": "code",
   "execution_count": 24,
   "id": "2a66b23e-5e74-403f-91d6-cb102ca6fdcc",
   "metadata": {},
   "outputs": [
    {
     "data": {
      "text/plain": [
       "Text(0.5, 0, 'variance of objectives')"
      ]
     },
     "execution_count": 24,
     "metadata": {},
     "output_type": "execute_result"
    },
    {
     "data": {
      "image/png": "[encoded data removed]",
      "text/plain": [
       "<Figure size 432x288 with 1 Axes>"
      ]
     },
     "metadata": {
      "needs_background": "light"
     },
     "output_type": "display_data"
    }
   ],
   "source": [
    "for i in range(N_assets):\n",
    "    plt.scatter(risk, np.array(α_optimal_list)[:,i])\n",
    "plt.title('Allocation in unit of assets')\n",
    "plt.ylabel('allocation weights in units of asset')\n",
    "plt.xlabel('variance of objectives')"
   ]
  },
  {
   "cell_type": "code",
   "execution_count": 25,
   "id": "87b54931-8b9f-4d19-927e-d3341773a38b",
   "metadata": {},
   "outputs": [
    {
     "data": {
      "text/plain": [
       "Text(0.5, 0, 'variance of objectives')"
      ]
     },
     "execution_count": 25,
     "metadata": {},
     "output_type": "execute_result"
    },
    {
     "data": {
      "image/png": "[encoded data removed]",
      "text/plain": [
       "<Figure size 432x288 with 1 Axes>"
      ]
     },
     "metadata": {
      "needs_background": "light"
     },
     "output_type": "display_data"
    }
   ],
   "source": [
    "for i in range(N_assets):\n",
    "    plt.scatter(risk, np.array(weights_optimal_list)[:,i])\n",
    "plt.title('Allocation in portfolio weights of assets')\n",
    "plt.ylabel('portfolio weights of assets')\n",
    "plt.xlabel('variance of objectives')"
   ]
  },
  {
   "cell_type": "markdown",
   "id": "53501b75-964c-403c-b0f1-8f87fa27c2c6",
   "metadata": {},
   "source": [
    "It's clearly evident that as the allowed variance (risk) increases, the allocation on the efficient frontier tends to converge towards a corner solution. This outcome should be expected since we imposed additional constraints on the classical MVO framework (e.g. long-only). Such optimization problems often have a high likelihood of finding their maximizers/minimizers at the boundary."
   ]
  },
  {
   "cell_type": "code",
   "execution_count": 26,
   "id": "6e5a18ce-9b3b-4e45-8508-44c837e28f14",
   "metadata": {
    "tags": []
   },
   "outputs": [
    {
     "data": {
      "text/plain": [
       "Text(0, 0.5, 'mean of objective')"
      ]
     },
     "execution_count": 26,
     "metadata": {},
     "output_type": "execute_result"
    },
    {
     "data": {
      "image/png": "[encoded data removed]",
      "text/plain": [
       "<Figure size 432x288 with 1 Axes>"
      ]
     },
     "metadata": {
      "needs_background": "light"
     },
     "output_type": "display_data"
    }
   ],
   "source": [
    "fig = plt.figure()\n",
    "plt.scatter(np.array(risk), reward,s =3)\n",
    "plt.title('Efficient Frontier')\n",
    "plt.xlabel('variance of objective')\n",
    "plt.ylabel('mean of objective')"
   ]
  },
  {
   "cell_type": "markdown",
   "id": "7578e26b-8a3b-4798-8ce4-20429e87a8a4",
   "metadata": {},
   "source": [
    "It's easy to see that this efficient frontier looks different from the one we generated using fictional data in the section about classical MVO. This is because the various constraints we impose on the optimization process distort the behavior of the optimal allocation, resulting in a steep increase at first which then becomes flat afterwards.\n"
   ]
  },
  {
   "cell_type": "markdown",
   "id": "e464c5d1-24d6-4e51-ac41-fc47a42af209",
   "metadata": {},
   "source": [
    "# Determine the optimal allocation using the Index of Satisfaction $\\mathcal{S}(\\alpha)$"
   ]
  },
  {
   "cell_type": "markdown",
   "id": "428b3abe-1d43-41b7-b925-2bb235e9434a",
   "metadata": {},
   "source": [
    "\n",
    "We rank the levels of satisfaction provided by the mean-variance efficient portfolios:\n",
    "$$\n",
    "i^* \\equiv \\underset{i}{\\operatorname{argmax}}\\left\\{\\widetilde{\\mathcal{S}}\\left(\\boldsymbol{\\alpha}^{(i)}\\right)\\right\\}\n",
    "$$\n",
    "Finally, we determine the optimal allocation:\n",
    "$$\n",
    "\\boldsymbol{\\alpha}^* \\equiv \\boldsymbol{\\alpha}^{\\left(i^*\\right)}\n",
    "$$"
   ]
  },
  {
   "cell_type": "code",
   "execution_count": 27,
   "id": "256bde94-6ad1-4f9c-8ca5-41c50d4b1bd8",
   "metadata": {},
   "outputs": [
    {
     "data": {
      "text/plain": [
       "73"
      ]
     },
     "execution_count": 27,
     "metadata": {},
     "output_type": "execute_result"
    }
   ],
   "source": [
    "np.argmax(S_α_list)"
   ]
  },
  {
   "cell_type": "code",
   "execution_count": 28,
   "id": "15bcf7de-bea8-4f71-bce8-3ad8adc266d0",
   "metadata": {},
   "outputs": [
    {
     "data": {
      "text/plain": [
       "array([1.20876438e-07, 2.50629700e+01, 5.43436769e-08, 1.77990956e-08,\n",
       "       1.63586140e-08, 7.95646144e-09, 2.15379720e-07])"
      ]
     },
     "execution_count": 28,
     "metadata": {},
     "output_type": "execute_result"
    }
   ],
   "source": [
    "final_optimal_allocation = α_optimal_list[np.argmax(S_α_list)]\n",
    "final_optimal_allocation"
   ]
  },
  {
   "cell_type": "markdown",
   "id": "04e471a4-2f5f-414c-8cf9-020ca4675709",
   "metadata": {},
   "source": [
    "## Determine the profit and the final wealth attained by holding this optimal allocation"
   ]
  },
  {
   "cell_type": "code",
   "execution_count": 29,
   "id": "60ed083f-9689-484f-b87a-5487052d62b4",
   "metadata": {},
   "outputs": [
    {
     "data": {
      "text/plain": [
       "(49.85030412202298, 1049.850304122023)"
      ]
     },
     "execution_count": 29,
     "metadata": {},
     "output_type": "execute_result"
    }
   ],
   "source": [
    "# Specify the start of this investment and the end of this investment\n",
    "investment_start_date = date_end_estimation\n",
    "investment_end_date = investment_start_date + 3*timedelta(weeks=1)\n",
    "\n",
    "# Prices at the beginning of this invesment and at the end of this investment\n",
    "price_current = df_data[df_data.index==investment_start_date].values.squeeze()\n",
    "price_investment_horizon = df_data[df_data.index==investment_end_date].values.squeeze()\n",
    "\n",
    "# Compute the PnL generated by this allocation and the corresponding final wealth\n",
    "PnL = final_optimal_allocation@(price_investment_horizon-price_current)\n",
    "final_wealth = initial_wealth + PnL\n",
    "PnL, final_wealth"
   ]
  },
  {
   "cell_type": "markdown",
   "id": "e285591b-084c-452f-aab0-cc47dbae6601",
   "metadata": {},
   "source": [
    "# Aggregate all processes, and let's simulate investment results (backtesting)"
   ]
  },
  {
   "cell_type": "code",
   "execution_count": 30,
   "id": "78bb2cfa-eca2-4a1e-81d5-072d5d71cc00",
   "metadata": {
    "tags": []
   },
   "outputs": [],
   "source": [
    "def allocation_scheme(df_data=None, # all of the data\n",
    "                      initial_wealth=None,\n",
    "                      τ_estimate=1, # estimation horizon\n",
    "                      τ_horizon=3,\n",
    "                      index_of_satisfaction='certainty_equivalent', # need work\n",
    "                      date_start_estimation = pd.to_datetime('2012-01-09'),  # first considered date\n",
    "                      date_end_estimation = pd.to_datetime('2017-01-02'),  # last date for estimation as well as the current time T\n",
    "                      estimator='sample',\n",
    "                      v_inf=1,\n",
    "                      v_sup=100,\n",
    "                      v_step=1,\n",
    "                      N_MC=100 # number of iterations for Monte-Carlo\n",
    "                     ):\n",
    "    print(date_end_estimation)\n",
    "    N_assets = df_data.shape[1]\n",
    "\n",
    "    # market data for esimation period: \\tilde{t} to T\n",
    "    Market_data_estimate = df_data[(df_data.index >= date_start_estimation) & (df_data.index <= date_end_estimation)].values\n",
    "\n",
    "    # Prices of asset at current time T\n",
    "    P_T = Market_data_estimate[-1:]\n",
    "    \n",
    "    # transaction cost\n",
    "    D = np.eye(N_assets)*0.001\n",
    "    \n",
    "    # Get market invariants for each asset\n",
    "    invariants = np.diff(np.log(Market_data_estimate), axis=0)\n",
    "    \n",
    "    # estimate sample mean and sample covariance\n",
    "    μ_X, Σ_X = cal_mean_cov(invariants)\n",
    "    \n",
    "    # Project the invariants to the investment horizon\n",
    "    μ_X_invest_horizon = (τ_horizon/τ_estimate)*μ_X\n",
    "    Σ_X_invest_horizon = (τ_horizon/τ_estimate)*Σ_X\n",
    "    \n",
    "    # Construct appropriate \\gamma and \\epsilon for the given type of assets\n",
    "    γ=np.log(P_T)\n",
    "\n",
    "    E=np.diagflat(np.ones(N_assets))\n",
    "    \n",
    "    # Project the investment horizon invariants to prices of assets at investment horizon\n",
    "    # Notice: the prices of assets at investment horizon P_{T+τ} ~ logNormal(μ_P_logN, Σ_P_logN)\n",
    "    μ_P_logN=(γ+E@μ_X_invest_horizon).squeeze()\n",
    "    Σ_P_logN=E@Σ_X_invest_horizon@E\n",
    "\n",
    "    # Find the mean and covariance matrix for P_{T+τ}\n",
    "    μ_P = np.exp( μ_P_logN + 0.5*Σ_P_logN.diagonal() )\n",
    "    #print(μ_P.shape)\n",
    "    Σ_P = np.zeros((N_assets, N_assets))\n",
    "    for i in range(N_assets):\n",
    "        for j in range(N_assets):\n",
    "            Σ_P[i,j] = np.exp(μ_P_logN[i]+μ_P_logN[j]+0.5*(Σ_P_logN[i,i]+Σ_P_logN[j,j]))*(np.exp(Σ_P_logN[i,j])-1)\n",
    "            \n",
    "    \n",
    "    ####################Optimization\n",
    "    reward = []\n",
    "    risk = []\n",
    "    α_optimal_list = []\n",
    "    weights_optimal_list = []\n",
    "    S_α_list=[]\n",
    "\n",
    "    for target_variances_i in np.arange(v_inf, v_sup, v_step):\n",
    "\n",
    "        ######## Set objective coefficient c\n",
    "        c_objective= cvxopt.matrix(-μ_P.T)\n",
    "        \n",
    "        ######## Set Constriants\n",
    "        # Linear (Long-only) Constraint\n",
    "        G_0 = cvxopt.matrix(-np.eye(N_assets))\n",
    "        h_0 = cvxopt.matrix(np.zeros(N_assets).reshape(-1,1))\n",
    "\n",
    "        # Quadratic (Risk) Constraint\n",
    "        L_transpose_Σ=np.linalg.cholesky(Σ_P)\n",
    "        G_1 = cvxopt.matrix(np.r_[np.zeros(N_assets).reshape(1,-1), -L_transpose_Σ.T])\n",
    "        h_1 = cvxopt.matrix(np.r_[np.array([target_variances_i]).reshape(-1,1), np.zeros(N_assets).reshape(-1,1)])\n",
    "\n",
    "        # Quadratic (Budget) Constraint\n",
    "        L_transpose_D=np.linalg.cholesky(D)\n",
    "        G_2 = cvxopt.matrix(np.r_[P_T.reshape(1,-1), -L_transpose_D.T])\n",
    "        h_2 = cvxopt.matrix(np.r_[np.array([initial_wealth]).reshape(-1,1), np.zeros(N_assets).reshape(-1,1)])\n",
    "\n",
    "        # Aggregate all the constraints that are not componentwise vector inequalities,i.e., all constraints except G_0, h_0\n",
    "        G = [G_1, G_2]\n",
    "        h = [h_1, h_2]\n",
    "        \n",
    "        ######## Solve for optimal result\n",
    "        cvxopt.solvers.options['show_progress'] = False\n",
    "        α_optimal = np.array(cvxopt.solvers.socp(c=c_objective, Gl = G_0, hl = h_0, Gq = G, hq = h)['x']).squeeze()\n",
    "        α_optimal_list.append(α_optimal)\n",
    "        #print('α_optimal',α_optimal)\n",
    "        w_optimal = np.diagflat(α_optimal)@P_T.T/(P_T@α_optimal)\n",
    "        weights_optimal_list.append(w_optimal)\n",
    "\n",
    "        reward.append(α_optimal@μ_P.squeeze())\n",
    "        risk.append(α_optimal@Σ_P@α_optimal)\n",
    "        \n",
    "        S_α_list.append(certainty_equivalent(-9, α_optimal,μ_P_logN,Σ_P_logN, N_MC))\n",
    "\n",
    "    return α_optimal_list[np.argmax(S_α_list)] # optimal allocation"
   ]
  },
  {
   "cell_type": "markdown",
   "id": "b3c5e878-0da4-44c5-84f1-d16e2c3af4b7",
   "metadata": {},
   "source": [
    "### Construct a DataFrame to document our PnL"
   ]
  },
  {
   "cell_type": "code",
   "execution_count": 31,
   "id": "39e26da5-5171-4c14-be79-4e7320fe8e2b",
   "metadata": {},
   "outputs": [],
   "source": [
    "df_investing = pd.DataFrame(index=df_data.index, columns=['MVO'])\n",
    "df_investing = df_investing[(df_investing.index >= date_end_estimation)]\n",
    "# df_investing"
   ]
  },
  {
   "cell_type": "code",
   "execution_count": 32,
   "id": "c7adc5d4-c00f-40f4-8a19-bdbaf1491823",
   "metadata": {
    "tags": []
   },
   "outputs": [
    {
     "name": "stdout",
     "output_type": "stream",
     "text": [
      "initial wealth is:  1000\n",
      "2017-01-02 00:00:00\n",
      "updated_wealth is:  1049.9358819817\n",
      "initial wealth is:  1049.9358819817\n",
      "2017-01-23 00:00:00\n",
      "updated_wealth is:  1061.6101740974907\n",
      "initial wealth is:  1061.6101740974907\n",
      "2017-02-13 00:00:00\n",
      "updated_wealth is:  1070.8868198046846\n",
      "initial wealth is:  1070.8868198046846\n",
      "2017-03-06 00:00:00\n",
      "updated_wealth is:  1113.667400887829\n",
      "initial wealth is:  1113.667400887829\n",
      "2017-03-27 00:00:00\n",
      "updated_wealth is:  1128.718414092199\n",
      "initial wealth is:  1128.718414092199\n",
      "2017-04-17 00:00:00\n",
      "updated_wealth is:  1207.576414095243\n",
      "initial wealth is:  1207.576414095243\n",
      "2017-05-08 00:00:00\n",
      "updated_wealth is:  1264.541848356892\n",
      "initial wealth is:  1264.541848356892\n",
      "2017-05-29 00:00:00\n",
      "updated_wealth is:  1260.7885524603746\n",
      "initial wealth is:  1260.7885524603746\n",
      "2017-06-19 00:00:00\n",
      "updated_wealth is:  1266.2969180901744\n",
      "initial wealth is:  1266.2969180901744\n",
      "2017-07-10 00:00:00\n",
      "updated_wealth is:  1256.9601510812026\n",
      "initial wealth is:  1256.9601510812026\n",
      "2017-07-31 00:00:00\n",
      "updated_wealth is:  1217.3233437163444\n",
      "initial wealth is:  1217.3233437163444\n",
      "2017-08-21 00:00:00\n",
      "updated_wealth is:  1278.4038873376253\n",
      "initial wealth is:  1278.4038873376253\n",
      "2017-09-11 00:00:00\n",
      "updated_wealth is:  1310.0794257221967\n",
      "initial wealth is:  1310.0794257221967\n",
      "2017-10-02 00:00:00\n",
      "updated_wealth is:  1379.8801806384074\n",
      "initial wealth is:  1379.8801806384074\n",
      "2017-10-23 00:00:00\n",
      "updated_wealth is:  1399.127832597563\n",
      "initial wealth is:  1399.127832597563\n",
      "2017-11-13 00:00:00\n",
      "updated_wealth is:  1481.693349330774\n",
      "initial wealth is:  1481.693349330774\n",
      "2017-12-04 00:00:00\n",
      "updated_wealth is:  1513.4163650698881\n",
      "initial wealth is:  1513.4163650698881\n",
      "2017-12-25 00:00:00\n",
      "updated_wealth is:  1635.3285495519522\n",
      "initial wealth is:  1635.3285495519522\n",
      "2018-01-15 00:00:00\n",
      "updated_wealth is:  1579.1055832518043\n",
      "initial wealth is:  1579.1055832518043\n",
      "2018-02-05 00:00:00\n",
      "updated_wealth is:  1639.8105247544959\n",
      "initial wealth is:  1639.8105247544959\n",
      "2018-02-26 00:00:00\n",
      "updated_wealth is:  1611.3290512927492\n",
      "initial wealth is:  1611.3290512927492\n",
      "2018-03-19 00:00:00\n",
      "updated_wealth is:  1575.7235269229498\n",
      "initial wealth is:  1575.7235269229498\n",
      "2018-04-09 00:00:00\n",
      "updated_wealth is:  1718.777024134018\n",
      "initial wealth is:  1718.777024134018\n",
      "2018-04-30 00:00:00\n",
      "updated_wealth is:  1747.3285358083679\n",
      "initial wealth is:  1747.3285358083679\n",
      "2018-05-21 00:00:00\n",
      "updated_wealth is:  1865.1794254379151\n",
      "initial wealth is:  1865.1794254379151\n",
      "2018-06-11 00:00:00\n",
      "updated_wealth is:  1838.4302263862178\n",
      "initial wealth is:  1838.4302263862178\n",
      "2018-07-02 00:00:00\n",
      "updated_wealth is:  1918.2919957540657\n",
      "initial wealth is:  1918.2919957540657\n",
      "2018-07-23 00:00:00\n",
      "updated_wealth is:  1957.9612620080925\n",
      "initial wealth is:  1957.9612620080925\n",
      "2018-08-13 00:00:00\n",
      "updated_wealth is:  2039.447644862154\n",
      "initial wealth is:  2039.447644862154\n",
      "2018-09-03 00:00:00\n",
      "updated_wealth is:  2076.0298194713127\n",
      "initial wealth is:  2076.0298194713127\n",
      "2018-09-24 00:00:00\n",
      "updated_wealth is:  1829.74292010852\n",
      "initial wealth is:  1829.74292010852\n",
      "2018-10-15 00:00:00\n",
      "updated_wealth is:  1797.189564286778\n",
      "initial wealth is:  1797.189564286778\n",
      "2018-11-05 00:00:00\n",
      "updated_wealth is:  1764.233769531063\n",
      "initial wealth is:  1764.233769531063\n",
      "2018-11-26 00:00:00\n",
      "updated_wealth is:  1472.9066314946213\n",
      "initial wealth is:  1472.9066314946213\n",
      "2018-12-17 00:00:00\n",
      "updated_wealth is:  1749.184326005725\n",
      "initial wealth is:  1749.184326005725\n",
      "2019-01-07 00:00:00\n",
      "updated_wealth is:  1752.377957101044\n",
      "initial wealth is:  1752.377957101044\n",
      "2019-01-28 00:00:00\n",
      "updated_wealth is:  1778.4511444783832\n",
      "initial wealth is:  1778.4511444783832\n",
      "2019-02-18 00:00:00\n",
      "updated_wealth is:  1811.0256794343188\n",
      "initial wealth is:  1811.0256794343188\n",
      "2019-03-11 00:00:00\n",
      "updated_wealth is:  1964.2375497731207\n",
      "initial wealth is:  1964.2375497731207\n",
      "2019-04-01 00:00:00\n",
      "updated_wealth is:  2040.3947525257124\n",
      "initial wealth is:  2040.3947525257124\n",
      "2019-04-22 00:00:00\n",
      "updated_wealth is:  1939.9786213334157\n",
      "initial wealth is:  1939.9786213334157\n",
      "2019-05-13 00:00:00\n",
      "updated_wealth is:  1929.0794665398964\n",
      "initial wealth is:  1929.0794665398964\n",
      "2019-06-03 00:00:00\n",
      "updated_wealth is:  2028.0847133094126\n",
      "initial wealth is:  2028.0847133094126\n",
      "2019-06-24 00:00:00\n",
      "updated_wealth is:  2091.2232848935237\n",
      "initial wealth is:  2091.2232848935237\n",
      "2019-07-15 00:00:00\n",
      "updated_wealth is:  1997.0425134236996\n",
      "initial wealth is:  1997.0425134236996\n",
      "2019-08-05 00:00:00\n",
      "updated_wealth is:  2053.464833345695\n",
      "initial wealth is:  2053.464833345695\n",
      "2019-08-26 00:00:00\n",
      "updated_wealth is:  2052.508404257101\n",
      "initial wealth is:  2052.508404257101\n",
      "2019-09-16 00:00:00\n",
      "updated_wealth is:  2064.998532187506\n",
      "initial wealth is:  2064.998532187506\n",
      "2019-10-07 00:00:00\n",
      "updated_wealth is:  2128.813626281227\n",
      "initial wealth is:  2128.813626281227\n",
      "2019-10-28 00:00:00\n",
      "updated_wealth is:  2032.5556982453154\n",
      "initial wealth is:  2032.5556982453154\n",
      "2019-11-18 00:00:00\n",
      "updated_wealth is:  2048.848551258268\n",
      "initial wealth is:  2048.848551258268\n",
      "2019-12-09 00:00:00\n",
      "updated_wealth is:  2141.3229224877514\n",
      "initial wealth is:  2141.3229224877514\n",
      "2019-12-30 00:00:00\n",
      "updated_wealth is:  2199.616825978559\n",
      "initial wealth is:  2199.616825978559\n",
      "2020-01-20 00:00:00\n",
      "updated_wealth is:  2368.0293499255563\n",
      "initial wealth is:  2368.0293499255563\n",
      "2020-02-10 00:00:00\n",
      "updated_wealth is:  2134.942481347326\n",
      "initial wealth is:  2134.942481347326\n",
      "2020-03-02 00:00:00\n",
      "updated_wealth is:  1854.5133491933475\n",
      "initial wealth is:  1854.5133491933475\n",
      "2020-03-23 00:00:00\n",
      "updated_wealth is:  2226.9169135384154\n",
      "initial wealth is:  2226.9169135384154\n",
      "2020-04-13 00:00:00\n",
      "updated_wealth is:  2298.80950335789\n",
      "initial wealth is:  2298.80950335789\n",
      "2020-05-04 00:00:00\n",
      "updated_wealth is:  2359.267515634674\n",
      "initial wealth is:  2359.267515634674\n",
      "2020-05-25 00:00:00\n",
      "updated_wealth is:  2444.5134393962267\n",
      "initial wealth is:  2444.5134393962267\n",
      "2020-06-15 00:00:00\n",
      "updated_wealth is:  2627.591011817719\n",
      "initial wealth is:  2627.591011817719\n",
      "2020-07-06 00:00:00\n",
      "updated_wealth is:  2711.980542291477\n",
      "initial wealth is:  2711.980542291477\n",
      "2020-07-27 00:00:00\n",
      "updated_wealth is:  2879.030761174185\n",
      "initial wealth is:  2879.030761174185\n",
      "2020-08-17 00:00:00\n",
      "updated_wealth is:  2746.550417939615\n",
      "initial wealth is:  2746.550417939615\n",
      "2020-09-07 00:00:00\n",
      "updated_wealth is:  2727.5685399945833\n",
      "initial wealth is:  2727.5685399945833\n",
      "2020-09-28 00:00:00\n",
      "updated_wealth is:  2745.2316448699453\n",
      "initial wealth is:  2745.2316448699453\n",
      "2020-10-19 00:00:00\n",
      "updated_wealth is:  2824.2111631922808\n",
      "initial wealth is:  2824.2111631922808\n",
      "2020-11-09 00:00:00\n",
      "updated_wealth is:  2888.598532329121\n",
      "initial wealth is:  2888.598532329121\n",
      "2020-11-30 00:00:00\n",
      "updated_wealth is:  2935.9710442797555\n",
      "initial wealth is:  2935.9710442797555\n",
      "2020-12-21 00:00:00\n",
      "updated_wealth is:  3055.7030565709156\n",
      "initial wealth is:  3055.7030565709156\n",
      "2021-01-11 00:00:00\n",
      "updated_wealth is:  3154.8228790121784\n",
      "initial wealth is:  3154.8228790121784\n",
      "2021-02-01 00:00:00\n",
      "updated_wealth is:  3061.5342218490496\n",
      "initial wealth is:  3061.5342218490496\n",
      "2021-02-22 00:00:00\n",
      "updated_wealth is:  3105.562462523755\n",
      "initial wealth is:  3105.562462523755\n",
      "2021-03-15 00:00:00\n",
      "updated_wealth is:  3185.9633558767996\n",
      "initial wealth is:  3185.9633558767996\n",
      "2021-04-05 00:00:00\n",
      "updated_wealth is:  3210.047373484182\n",
      "initial wealth is:  3210.047373484182\n",
      "2021-04-26 00:00:00\n",
      "updated_wealth is:  3271.1418493641454\n",
      "initial wealth is:  3271.1418493641454\n",
      "2021-05-17 00:00:00\n",
      "updated_wealth is:  3241.628523155209\n",
      "initial wealth is:  3241.628523155209\n",
      "2021-06-07 00:00:00\n",
      "updated_wealth is:  3326.9156072589158\n",
      "initial wealth is:  3326.9156072589158\n",
      "2021-06-28 00:00:00\n",
      "updated_wealth is:  3357.485175666255\n",
      "initial wealth is:  3357.485175666255\n",
      "2021-07-19 00:00:00\n",
      "updated_wealth is:  3377.3390236884147\n",
      "initial wealth is:  3377.3390236884147\n",
      "2021-08-09 00:00:00\n",
      "updated_wealth is:  3382.7093552367032\n",
      "initial wealth is:  3382.7093552367032\n",
      "2021-08-30 00:00:00\n",
      "updated_wealth is:  3274.0862155126383\n",
      "initial wealth is:  3274.0862155126383\n",
      "2021-09-20 00:00:00\n",
      "updated_wealth is:  3264.2225994715673\n",
      "initial wealth is:  3264.2225994715673\n",
      "2021-10-11 00:00:00\n",
      "updated_wealth is:  3327.932111973427\n",
      "initial wealth is:  3327.932111973427\n",
      "2021-11-01 00:00:00\n",
      "updated_wealth is:  3272.516323720281\n",
      "initial wealth is:  3272.516323720281\n",
      "2021-11-22 00:00:00\n",
      "updated_wealth is:  3365.9983531215566\n",
      "initial wealth is:  3365.9983531215566\n",
      "2021-12-13 00:00:00\n",
      "updated_wealth is:  3467.1112463682603\n",
      "initial wealth is:  3467.1112463682603\n",
      "2022-01-03 00:00:00\n",
      "updated_wealth is:  3404.7613114760993\n",
      "initial wealth is:  3404.7613114760993\n",
      "2022-01-24 00:00:00\n",
      "updated_wealth is:  3338.7135240490684\n",
      "initial wealth is:  3338.7135240490684\n",
      "2022-02-14 00:00:00\n",
      "updated_wealth is:  3379.1446979045522\n",
      "initial wealth is:  3379.1446979045522\n",
      "2022-03-07 00:00:00\n",
      "updated_wealth is:  3529.9734495967655\n",
      "initial wealth is:  3529.9734495967655\n",
      "2022-03-28 00:00:00\n",
      "updated_wealth is:  3510.799722198141\n",
      "initial wealth is:  3510.799722198141\n",
      "2022-04-18 00:00:00\n",
      "updated_wealth is:  3370.9127619090223\n",
      "initial wealth is:  3370.9127619090223\n",
      "2022-05-09 00:00:00\n",
      "updated_wealth is:  3430.0711930892107\n",
      "initial wealth is:  3430.0711930892107\n",
      "2022-05-30 00:00:00\n",
      "updated_wealth is:  3409.728317723321\n",
      "initial wealth is:  3409.728317723321\n",
      "2022-06-20 00:00:00\n",
      "updated_wealth is:  3366.729808132144\n",
      "initial wealth is:  3366.729808132144\n",
      "2022-07-11 00:00:00\n",
      "updated_wealth is:  3420.393920376932\n",
      "initial wealth is:  3420.393920376932\n",
      "2022-08-01 00:00:00\n",
      "updated_wealth is:  3354.4450707846413\n",
      "initial wealth is:  3354.4450707846413\n",
      "2022-08-22 00:00:00\n",
      "updated_wealth is:  3324.0581715677367\n",
      "initial wealth is:  3324.0581715677367\n",
      "2022-09-12 00:00:00\n",
      "updated_wealth is:  3236.001709351564\n",
      "initial wealth is:  3236.001709351564\n",
      "2022-10-03 00:00:00\n",
      "updated_wealth is:  3456.0021648669217\n",
      "initial wealth is:  3456.0021648669217\n",
      "2022-10-24 00:00:00\n",
      "updated_wealth is:  3459.224731192007\n",
      "initial wealth is:  3459.224731192007\n",
      "2022-11-14 00:00:00\n",
      "updated_wealth is:  3405.837891117834\n",
      "initial wealth is:  3405.837891117834\n",
      "2022-12-05 00:00:00\n",
      "updated_wealth is:  3404.0079079185434\n"
     ]
    }
   ],
   "source": [
    "df_investing['MVO'][0]=1000\n",
    "\n",
    "for i in range(0,310,3):\n",
    "    initial_wealth=df_investing['MVO'][i]\n",
    "    print('initial wealth is: ', initial_wealth)\n",
    "    end_estimation_date = pd.to_datetime('2017-01-02') + i*timedelta(weeks=1)\n",
    "    \n",
    "    α_optimal_allocation = allocation_scheme(df_data=df_data, # all of the data\n",
    "                                             initial_wealth=initial_wealth,\n",
    "                                             τ_estimate=1, # estimation horizon\n",
    "                                             τ_horizon=3,\n",
    "                                             index_of_satisfaction='certainty_equivalent', \n",
    "                                             date_start_estimation = pd.to_datetime('2012-01-01'),  # first considered date\n",
    "                                             date_end_estimation = end_estimation_date,  # last date for estimation as well as the current time T\n",
    "                                             estimator='sample',\n",
    "                                             v_inf=1,\n",
    "                                             v_sup=100,\n",
    "                                             v_step=1,\n",
    "                                             N_MC=100 # number of iterations for Monte-Carlo\n",
    "                                             )\n",
    "    #print('α_optimal_allocation is: ', α_optimal_allocation)\n",
    "    ################# Calculate the PnL generated by holding the optimal portfolio\n",
    "    # current (buy-in) price\n",
    "    price_current=df_data[df_data.index==end_estimation_date].values.squeeze()\n",
    "    \n",
    "    # investment horizon (sell-off) price\n",
    "    price_investment_horizon = df_data[df_data.index==end_estimation_date+ 3*timedelta(weeks=1)].values.squeeze()\n",
    "    \n",
    "    # PnL generated by holding the optimal portfolio\n",
    "    PnL= α_optimal_allocation@(price_investment_horizon-price_current)\n",
    "    \n",
    "    # update your absolute wealth\n",
    "    updated_wealth = initial_wealth + PnL\n",
    "    print('updated_wealth is: ', updated_wealth)\n",
    "    df_investing['MVO'][i+3] = updated_wealth"
   ]
  },
  {
   "cell_type": "code",
   "execution_count": 33,
   "id": "b18ae57b-45b7-4b0d-8521-d1becc7fbf80",
   "metadata": {},
   "outputs": [],
   "source": [
    "df_result=df_investing.dropna().copy()"
   ]
  },
  {
   "cell_type": "code",
   "execution_count": 34,
   "id": "c4eec174-9ffa-4be1-bdc4-8d8a7ecbf94c",
   "metadata": {},
   "outputs": [
    {
     "data": {
      "text/html": [
       "<div>\n",
       "<style scoped>\n",
       "    .dataframe tbody tr th:only-of-type {\n",
       "        vertical-align: middle;\n",
       "    }\n",
       "\n",
       "    .dataframe tbody tr th {\n",
       "        vertical-align: top;\n",
       "    }\n",
       "\n",
       "    .dataframe thead th {\n",
       "        text-align: right;\n",
       "    }\n",
       "</style>\n",
       "<table border=\"1\" class=\"dataframe\">\n",
       "  <thead>\n",
       "    <tr style=\"text-align: right;\">\n",
       "      <th></th>\n",
       "      <th>MVO</th>\n",
       "    </tr>\n",
       "    <tr>\n",
       "      <th>Date</th>\n",
       "      <th></th>\n",
       "    </tr>\n",
       "  </thead>\n",
       "  <tbody>\n",
       "    <tr>\n",
       "      <th>2017-01-02</th>\n",
       "      <td>1000</td>\n",
       "    </tr>\n",
       "    <tr>\n",
       "      <th>2017-01-23</th>\n",
       "      <td>1049.935882</td>\n",
       "    </tr>\n",
       "    <tr>\n",
       "      <th>2017-02-13</th>\n",
       "      <td>1061.610174</td>\n",
       "    </tr>\n",
       "    <tr>\n",
       "      <th>2017-03-06</th>\n",
       "      <td>1070.88682</td>\n",
       "    </tr>\n",
       "    <tr>\n",
       "      <th>2017-03-27</th>\n",
       "      <td>1113.667401</td>\n",
       "    </tr>\n",
       "    <tr>\n",
       "      <th>2017-04-17</th>\n",
       "      <td>1128.718414</td>\n",
       "    </tr>\n",
       "    <tr>\n",
       "      <th>2017-05-08</th>\n",
       "      <td>1207.576414</td>\n",
       "    </tr>\n",
       "    <tr>\n",
       "      <th>2017-05-29</th>\n",
       "      <td>1264.541848</td>\n",
       "    </tr>\n",
       "    <tr>\n",
       "      <th>2017-06-19</th>\n",
       "      <td>1260.788552</td>\n",
       "    </tr>\n",
       "    <tr>\n",
       "      <th>2017-07-10</th>\n",
       "      <td>1266.296918</td>\n",
       "    </tr>\n",
       "    <tr>\n",
       "      <th>2017-07-31</th>\n",
       "      <td>1256.960151</td>\n",
       "    </tr>\n",
       "    <tr>\n",
       "      <th>2017-08-21</th>\n",
       "      <td>1217.323344</td>\n",
       "    </tr>\n",
       "    <tr>\n",
       "      <th>2017-09-11</th>\n",
       "      <td>1278.403887</td>\n",
       "    </tr>\n",
       "    <tr>\n",
       "      <th>2017-10-02</th>\n",
       "      <td>1310.079426</td>\n",
       "    </tr>\n",
       "    <tr>\n",
       "      <th>2017-10-23</th>\n",
       "      <td>1379.880181</td>\n",
       "    </tr>\n",
       "    <tr>\n",
       "      <th>2017-11-13</th>\n",
       "      <td>1399.127833</td>\n",
       "    </tr>\n",
       "    <tr>\n",
       "      <th>2017-12-04</th>\n",
       "      <td>1481.693349</td>\n",
       "    </tr>\n",
       "    <tr>\n",
       "      <th>2017-12-25</th>\n",
       "      <td>1513.416365</td>\n",
       "    </tr>\n",
       "    <tr>\n",
       "      <th>2018-01-15</th>\n",
       "      <td>1635.32855</td>\n",
       "    </tr>\n",
       "    <tr>\n",
       "      <th>2018-02-05</th>\n",
       "      <td>1579.105583</td>\n",
       "    </tr>\n",
       "    <tr>\n",
       "      <th>2018-02-26</th>\n",
       "      <td>1639.810525</td>\n",
       "    </tr>\n",
       "    <tr>\n",
       "      <th>2018-03-19</th>\n",
       "      <td>1611.329051</td>\n",
       "    </tr>\n",
       "    <tr>\n",
       "      <th>2018-04-09</th>\n",
       "      <td>1575.723527</td>\n",
       "    </tr>\n",
       "    <tr>\n",
       "      <th>2018-04-30</th>\n",
       "      <td>1718.777024</td>\n",
       "    </tr>\n",
       "    <tr>\n",
       "      <th>2018-05-21</th>\n",
       "      <td>1747.328536</td>\n",
       "    </tr>\n",
       "    <tr>\n",
       "      <th>2018-06-11</th>\n",
       "      <td>1865.179425</td>\n",
       "    </tr>\n",
       "    <tr>\n",
       "      <th>2018-07-02</th>\n",
       "      <td>1838.430226</td>\n",
       "    </tr>\n",
       "    <tr>\n",
       "      <th>2018-07-23</th>\n",
       "      <td>1918.291996</td>\n",
       "    </tr>\n",
       "    <tr>\n",
       "      <th>2018-08-13</th>\n",
       "      <td>1957.961262</td>\n",
       "    </tr>\n",
       "    <tr>\n",
       "      <th>2018-09-03</th>\n",
       "      <td>2039.447645</td>\n",
       "    </tr>\n",
       "    <tr>\n",
       "      <th>2018-09-24</th>\n",
       "      <td>2076.029819</td>\n",
       "    </tr>\n",
       "    <tr>\n",
       "      <th>2018-10-15</th>\n",
       "      <td>1829.74292</td>\n",
       "    </tr>\n",
       "    <tr>\n",
       "      <th>2018-11-05</th>\n",
       "      <td>1797.189564</td>\n",
       "    </tr>\n",
       "    <tr>\n",
       "      <th>2018-11-26</th>\n",
       "      <td>1764.23377</td>\n",
       "    </tr>\n",
       "    <tr>\n",
       "      <th>2018-12-17</th>\n",
       "      <td>1472.906631</td>\n",
       "    </tr>\n",
       "    <tr>\n",
       "      <th>2019-01-07</th>\n",
       "      <td>1749.184326</td>\n",
       "    </tr>\n",
       "    <tr>\n",
       "      <th>2019-01-28</th>\n",
       "      <td>1752.377957</td>\n",
       "    </tr>\n",
       "    <tr>\n",
       "      <th>2019-02-18</th>\n",
       "      <td>1778.451144</td>\n",
       "    </tr>\n",
       "    <tr>\n",
       "      <th>2019-03-11</th>\n",
       "      <td>1811.025679</td>\n",
       "    </tr>\n",
       "    <tr>\n",
       "      <th>2019-04-01</th>\n",
       "      <td>1964.23755</td>\n",
       "    </tr>\n",
       "    <tr>\n",
       "      <th>2019-04-22</th>\n",
       "      <td>2040.394753</td>\n",
       "    </tr>\n",
       "    <tr>\n",
       "      <th>2019-05-13</th>\n",
       "      <td>1939.978621</td>\n",
       "    </tr>\n",
       "    <tr>\n",
       "      <th>2019-06-03</th>\n",
       "      <td>1929.079467</td>\n",
       "    </tr>\n",
       "    <tr>\n",
       "      <th>2019-06-24</th>\n",
       "      <td>2028.084713</td>\n",
       "    </tr>\n",
       "    <tr>\n",
       "      <th>2019-07-15</th>\n",
       "      <td>2091.223285</td>\n",
       "    </tr>\n",
       "    <tr>\n",
       "      <th>2019-08-05</th>\n",
       "      <td>1997.042513</td>\n",
       "    </tr>\n",
       "    <tr>\n",
       "      <th>2019-08-26</th>\n",
       "      <td>2053.464833</td>\n",
       "    </tr>\n",
       "    <tr>\n",
       "      <th>2019-09-16</th>\n",
       "      <td>2052.508404</td>\n",
       "    </tr>\n",
       "    <tr>\n",
       "      <th>2019-10-07</th>\n",
       "      <td>2064.998532</td>\n",
       "    </tr>\n",
       "    <tr>\n",
       "      <th>2019-10-28</th>\n",
       "      <td>2128.813626</td>\n",
       "    </tr>\n",
       "    <tr>\n",
       "      <th>2019-11-18</th>\n",
       "      <td>2032.555698</td>\n",
       "    </tr>\n",
       "    <tr>\n",
       "      <th>2019-12-09</th>\n",
       "      <td>2048.848551</td>\n",
       "    </tr>\n",
       "    <tr>\n",
       "      <th>2019-12-30</th>\n",
       "      <td>2141.322922</td>\n",
       "    </tr>\n",
       "    <tr>\n",
       "      <th>2020-01-20</th>\n",
       "      <td>2199.616826</td>\n",
       "    </tr>\n",
       "    <tr>\n",
       "      <th>2020-02-10</th>\n",
       "      <td>2368.02935</td>\n",
       "    </tr>\n",
       "    <tr>\n",
       "      <th>2020-03-02</th>\n",
       "      <td>2134.942481</td>\n",
       "    </tr>\n",
       "    <tr>\n",
       "      <th>2020-03-23</th>\n",
       "      <td>1854.513349</td>\n",
       "    </tr>\n",
       "    <tr>\n",
       "      <th>2020-04-13</th>\n",
       "      <td>2226.916914</td>\n",
       "    </tr>\n",
       "    <tr>\n",
       "      <th>2020-05-04</th>\n",
       "      <td>2298.809503</td>\n",
       "    </tr>\n",
       "    <tr>\n",
       "      <th>2020-05-25</th>\n",
       "      <td>2359.267516</td>\n",
       "    </tr>\n",
       "    <tr>\n",
       "      <th>2020-06-15</th>\n",
       "      <td>2444.513439</td>\n",
       "    </tr>\n",
       "    <tr>\n",
       "      <th>2020-07-06</th>\n",
       "      <td>2627.591012</td>\n",
       "    </tr>\n",
       "    <tr>\n",
       "      <th>2020-07-27</th>\n",
       "      <td>2711.980542</td>\n",
       "    </tr>\n",
       "    <tr>\n",
       "      <th>2020-08-17</th>\n",
       "      <td>2879.030761</td>\n",
       "    </tr>\n",
       "    <tr>\n",
       "      <th>2020-09-07</th>\n",
       "      <td>2746.550418</td>\n",
       "    </tr>\n",
       "    <tr>\n",
       "      <th>2020-09-28</th>\n",
       "      <td>2727.56854</td>\n",
       "    </tr>\n",
       "    <tr>\n",
       "      <th>2020-10-19</th>\n",
       "      <td>2745.231645</td>\n",
       "    </tr>\n",
       "    <tr>\n",
       "      <th>2020-11-09</th>\n",
       "      <td>2824.211163</td>\n",
       "    </tr>\n",
       "    <tr>\n",
       "      <th>2020-11-30</th>\n",
       "      <td>2888.598532</td>\n",
       "    </tr>\n",
       "    <tr>\n",
       "      <th>2020-12-21</th>\n",
       "      <td>2935.971044</td>\n",
       "    </tr>\n",
       "    <tr>\n",
       "      <th>2021-01-11</th>\n",
       "      <td>3055.703057</td>\n",
       "    </tr>\n",
       "    <tr>\n",
       "      <th>2021-02-01</th>\n",
       "      <td>3154.822879</td>\n",
       "    </tr>\n",
       "    <tr>\n",
       "      <th>2021-02-22</th>\n",
       "      <td>3061.534222</td>\n",
       "    </tr>\n",
       "    <tr>\n",
       "      <th>2021-03-15</th>\n",
       "      <td>3105.562463</td>\n",
       "    </tr>\n",
       "    <tr>\n",
       "      <th>2021-04-05</th>\n",
       "      <td>3185.963356</td>\n",
       "    </tr>\n",
       "    <tr>\n",
       "      <th>2021-04-26</th>\n",
       "      <td>3210.047373</td>\n",
       "    </tr>\n",
       "    <tr>\n",
       "      <th>2021-05-17</th>\n",
       "      <td>3271.141849</td>\n",
       "    </tr>\n",
       "    <tr>\n",
       "      <th>2021-06-07</th>\n",
       "      <td>3241.628523</td>\n",
       "    </tr>\n",
       "    <tr>\n",
       "      <th>2021-06-28</th>\n",
       "      <td>3326.915607</td>\n",
       "    </tr>\n",
       "    <tr>\n",
       "      <th>2021-07-19</th>\n",
       "      <td>3357.485176</td>\n",
       "    </tr>\n",
       "    <tr>\n",
       "      <th>2021-08-09</th>\n",
       "      <td>3377.339024</td>\n",
       "    </tr>\n",
       "    <tr>\n",
       "      <th>2021-08-30</th>\n",
       "      <td>3382.709355</td>\n",
       "    </tr>\n",
       "    <tr>\n",
       "      <th>2021-09-20</th>\n",
       "      <td>3274.086216</td>\n",
       "    </tr>\n",
       "    <tr>\n",
       "      <th>2021-10-11</th>\n",
       "      <td>3264.222599</td>\n",
       "    </tr>\n",
       "    <tr>\n",
       "      <th>2021-11-01</th>\n",
       "      <td>3327.932112</td>\n",
       "    </tr>\n",
       "    <tr>\n",
       "      <th>2021-11-22</th>\n",
       "      <td>3272.516324</td>\n",
       "    </tr>\n",
       "    <tr>\n",
       "      <th>2021-12-13</th>\n",
       "      <td>3365.998353</td>\n",
       "    </tr>\n",
       "    <tr>\n",
       "      <th>2022-01-03</th>\n",
       "      <td>3467.111246</td>\n",
       "    </tr>\n",
       "    <tr>\n",
       "      <th>2022-01-24</th>\n",
       "      <td>3404.761311</td>\n",
       "    </tr>\n",
       "    <tr>\n",
       "      <th>2022-02-14</th>\n",
       "      <td>3338.713524</td>\n",
       "    </tr>\n",
       "    <tr>\n",
       "      <th>2022-03-07</th>\n",
       "      <td>3379.144698</td>\n",
       "    </tr>\n",
       "    <tr>\n",
       "      <th>2022-03-28</th>\n",
       "      <td>3529.97345</td>\n",
       "    </tr>\n",
       "    <tr>\n",
       "      <th>2022-04-18</th>\n",
       "      <td>3510.799722</td>\n",
       "    </tr>\n",
       "    <tr>\n",
       "      <th>2022-05-09</th>\n",
       "      <td>3370.912762</td>\n",
       "    </tr>\n",
       "    <tr>\n",
       "      <th>2022-05-30</th>\n",
       "      <td>3430.071193</td>\n",
       "    </tr>\n",
       "    <tr>\n",
       "      <th>2022-06-20</th>\n",
       "      <td>3409.728318</td>\n",
       "    </tr>\n",
       "    <tr>\n",
       "      <th>2022-07-11</th>\n",
       "      <td>3366.729808</td>\n",
       "    </tr>\n",
       "    <tr>\n",
       "      <th>2022-08-01</th>\n",
       "      <td>3420.39392</td>\n",
       "    </tr>\n",
       "    <tr>\n",
       "      <th>2022-08-22</th>\n",
       "      <td>3354.445071</td>\n",
       "    </tr>\n",
       "    <tr>\n",
       "      <th>2022-09-12</th>\n",
       "      <td>3324.058172</td>\n",
       "    </tr>\n",
       "    <tr>\n",
       "      <th>2022-10-03</th>\n",
       "      <td>3236.001709</td>\n",
       "    </tr>\n",
       "    <tr>\n",
       "      <th>2022-10-24</th>\n",
       "      <td>3456.002165</td>\n",
       "    </tr>\n",
       "    <tr>\n",
       "      <th>2022-11-14</th>\n",
       "      <td>3459.224731</td>\n",
       "    </tr>\n",
       "    <tr>\n",
       "      <th>2022-12-05</th>\n",
       "      <td>3405.837891</td>\n",
       "    </tr>\n",
       "    <tr>\n",
       "      <th>2022-12-26</th>\n",
       "      <td>3404.007908</td>\n",
       "    </tr>\n",
       "  </tbody>\n",
       "</table>\n",
       "</div>"
      ],
      "text/plain": [
       "                    MVO\n",
       "Date                   \n",
       "2017-01-02         1000\n",
       "2017-01-23  1049.935882\n",
       "2017-02-13  1061.610174\n",
       "2017-03-06   1070.88682\n",
       "2017-03-27  1113.667401\n",
       "2017-04-17  1128.718414\n",
       "2017-05-08  1207.576414\n",
       "2017-05-29  1264.541848\n",
       "2017-06-19  1260.788552\n",
       "2017-07-10  1266.296918\n",
       "2017-07-31  1256.960151\n",
       "2017-08-21  1217.323344\n",
       "2017-09-11  1278.403887\n",
       "2017-10-02  1310.079426\n",
       "2017-10-23  1379.880181\n",
       "2017-11-13  1399.127833\n",
       "2017-12-04  1481.693349\n",
       "2017-12-25  1513.416365\n",
       "2018-01-15   1635.32855\n",
       "2018-02-05  1579.105583\n",
       "2018-02-26  1639.810525\n",
       "2018-03-19  1611.329051\n",
       "2018-04-09  1575.723527\n",
       "2018-04-30  1718.777024\n",
       "2018-05-21  1747.328536\n",
       "2018-06-11  1865.179425\n",
       "2018-07-02  1838.430226\n",
       "2018-07-23  1918.291996\n",
       "2018-08-13  1957.961262\n",
       "2018-09-03  2039.447645\n",
       "2018-09-24  2076.029819\n",
       "2018-10-15   1829.74292\n",
       "2018-11-05  1797.189564\n",
       "2018-11-26   1764.23377\n",
       "2018-12-17  1472.906631\n",
       "2019-01-07  1749.184326\n",
       "2019-01-28  1752.377957\n",
       "2019-02-18  1778.451144\n",
       "2019-03-11  1811.025679\n",
       "2019-04-01   1964.23755\n",
       "2019-04-22  2040.394753\n",
       "2019-05-13  1939.978621\n",
       "2019-06-03  1929.079467\n",
       "2019-06-24  2028.084713\n",
       "2019-07-15  2091.223285\n",
       "2019-08-05  1997.042513\n",
       "2019-08-26  2053.464833\n",
       "2019-09-16  2052.508404\n",
       "2019-10-07  2064.998532\n",
       "2019-10-28  2128.813626\n",
       "2019-11-18  2032.555698\n",
       "2019-12-09  2048.848551\n",
       "2019-12-30  2141.322922\n",
       "2020-01-20  2199.616826\n",
       "2020-02-10   2368.02935\n",
       "2020-03-02  2134.942481\n",
       "2020-03-23  1854.513349\n",
       "2020-04-13  2226.916914\n",
       "2020-05-04  2298.809503\n",
       "2020-05-25  2359.267516\n",
       "2020-06-15  2444.513439\n",
       "2020-07-06  2627.591012\n",
       "2020-07-27  2711.980542\n",
       "2020-08-17  2879.030761\n",
       "2020-09-07  2746.550418\n",
       "2020-09-28   2727.56854\n",
       "2020-10-19  2745.231645\n",
       "2020-11-09  2824.211163\n",
       "2020-11-30  2888.598532\n",
       "2020-12-21  2935.971044\n",
       "2021-01-11  3055.703057\n",
       "2021-02-01  3154.822879\n",
       "2021-02-22  3061.534222\n",
       "2021-03-15  3105.562463\n",
       "2021-04-05  3185.963356\n",
       "2021-04-26  3210.047373\n",
       "2021-05-17  3271.141849\n",
       "2021-06-07  3241.628523\n",
       "2021-06-28  3326.915607\n",
       "2021-07-19  3357.485176\n",
       "2021-08-09  3377.339024\n",
       "2021-08-30  3382.709355\n",
       "2021-09-20  3274.086216\n",
       "2021-10-11  3264.222599\n",
       "2021-11-01  3327.932112\n",
       "2021-11-22  3272.516324\n",
       "2021-12-13  3365.998353\n",
       "2022-01-03  3467.111246\n",
       "2022-01-24  3404.761311\n",
       "2022-02-14  3338.713524\n",
       "2022-03-07  3379.144698\n",
       "2022-03-28   3529.97345\n",
       "2022-04-18  3510.799722\n",
       "2022-05-09  3370.912762\n",
       "2022-05-30  3430.071193\n",
       "2022-06-20  3409.728318\n",
       "2022-07-11  3366.729808\n",
       "2022-08-01   3420.39392\n",
       "2022-08-22  3354.445071\n",
       "2022-09-12  3324.058172\n",
       "2022-10-03  3236.001709\n",
       "2022-10-24  3456.002165\n",
       "2022-11-14  3459.224731\n",
       "2022-12-05  3405.837891\n",
       "2022-12-26  3404.007908"
      ]
     },
     "execution_count": 34,
     "metadata": {},
     "output_type": "execute_result"
    }
   ],
   "source": [
    "pd.set_option('display.max_rows', None)\n",
    "# pd.set_option('display.max_rows', 10)\n",
    "df_result"
   ]
  },
  {
   "cell_type": "code",
   "execution_count": 35,
   "id": "7f076538-6acd-49dd-b5e6-f15210f85b84",
   "metadata": {
    "tags": []
   },
   "outputs": [
    {
     "data": {
      "text/plain": [
       "<AxesSubplot:xlabel='Date'>"
      ]
     },
     "execution_count": 35,
     "metadata": {},
     "output_type": "execute_result"
    },
    {
     "data": {
      "image/png": "[encoded data removed]",
      "text/plain": [
       "<Figure size 432x288 with 1 Axes>"
      ]
     },
     "metadata": {
      "needs_background": "light"
     },
     "output_type": "display_data"
    }
   ],
   "source": [
    "df_result.plot()"
   ]
  },
  {
   "cell_type": "code",
   "execution_count": null,
   "id": "1cf4396e-72e8-438d-97b3-2968972c48b4",
   "metadata": {},
   "outputs": [],
   "source": []
  },
  {
   "cell_type": "code",
   "execution_count": null,
   "id": "bef8fe50-ebf3-4ab8-b983-fa5a01bd3a72",
   "metadata": {},
   "outputs": [],
   "source": []
  },
  {
   "cell_type": "code",
   "execution_count": null,
   "id": "5a44a417-0f4d-4ced-a96c-4a62c60d194a",
   "metadata": {},
   "outputs": [],
   "source": []
  },
  {
   "cell_type": "code",
   "execution_count": null,
   "id": "fe78be42-fe0f-44c3-b5d7-0da49aaa450b",
   "metadata": {},
   "outputs": [],
   "source": []
  },
  {
   "cell_type": "code",
   "execution_count": null,
   "id": "a4c54667-e933-4f72-ab18-dc9defc9c168",
   "metadata": {},
   "outputs": [],
   "source": []
  },
  {
   "cell_type": "code",
   "execution_count": null,
   "id": "64371c3c-d52b-48c5-bf4c-e8112090889a",
   "metadata": {},
   "outputs": [],
   "source": []
  },
  {
   "cell_type": "code",
   "execution_count": null,
   "id": "a2e22cdd-049a-4ee1-b9ac-26c4af8f6f22",
   "metadata": {},
   "outputs": [],
   "source": []
  },
  {
   "cell_type": "code",
   "execution_count": null,
   "id": "56adcd50-75f9-4ed5-a27d-48c7acc415ec",
   "metadata": {},
   "outputs": [],
   "source": []
  },
  {
   "cell_type": "code",
   "execution_count": null,
   "id": "cc8b68fe-e477-4de1-bfdd-47ce5633d83c",
   "metadata": {},
   "outputs": [],
   "source": []
  },
  {
   "cell_type": "code",
   "execution_count": null,
   "id": "de141350-4cdf-45f5-ac0e-9788f7432c5c",
   "metadata": {},
   "outputs": [],
   "source": [
    "\n"
   ]
  }
 ],
 "metadata": {
  "kernelspec": {
   "display_name": "Python 3 (ipykernel)",
   "language": "python",
   "name": "python3"
  },
  "language_info": {
   "codemirror_mode": {
    "name": "ipython",
    "version": 3
   },
   "file_extension": ".py",
   "mimetype": "text/x-python",
   "name": "python",
   "nbconvert_exporter": "python",
   "pygments_lexer": "ipython3",
   "version": "3.9.12"
  }
 },
 "nbformat": 4,
 "nbformat_minor": 5
}
