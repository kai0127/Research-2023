{
 "cells": [
  {
   "cell_type": "markdown",
   "id": "c0eeeea2-3ea2-4687-a228-2e7c4358a789",
   "metadata": {},
   "source": [
    "# <center> APT </center>"
   ]
  },
  {
   "cell_type": "markdown",
   "id": "f7ef67b5-8ba3-4726-ab06-d67807bc3c00",
   "metadata": {},
   "source": [
    "&copy; Kaiwen Zhou 2023"
   ]
  },
  {
   "cell_type": "code",
   "execution_count": 74,
   "id": "da729976-a18d-4473-bf9a-985437aa9860",
   "metadata": {},
   "outputs": [],
   "source": [
    "import pandas as pd\n",
    "import numpy as np\n",
    "import matplotlib.pyplot as plt\n",
    "import impyute as impy\n",
    "from datetime import timedelta\n",
    "\n",
    "from numpy.linalg import inv\n",
    "from sklearn.linear_model import LinearRegression\n",
    "import scipy.stats as spst\n",
    "import yfinance as yf"
   ]
  },
  {
   "cell_type": "markdown",
   "id": "7ad4deb4-808b-4133-bba8-9697aa24a8d4",
   "metadata": {
    "tags": []
   },
   "source": [
    "# Load Data"
   ]
  },
  {
   "cell_type": "code",
   "execution_count": 105,
   "id": "529c4251-3d1b-4d4e-a4a9-e5570baeef8a",
   "metadata": {},
   "outputs": [],
   "source": [
    "# AAPL AMZN JPM JNJ XOM GE HD\n",
    "raw_data = pd.read_csv('CRSP_rawdata.csv')\n",
    "# raw_data"
   ]
  },
  {
   "cell_type": "code",
   "execution_count": 106,
   "id": "436086b5-af35-4416-a1a9-975908c73961",
   "metadata": {},
   "outputs": [],
   "source": [
    "df_data = pd.read_csv('weekly_closing_prices_2012_2022.csv', index_col='Date')\n",
    "df_data.index = pd.to_datetime(df_data.index)\n",
    "# df_data"
   ]
  },
  {
   "cell_type": "code",
   "execution_count": 107,
   "id": "d1ab7e82-812e-4ded-a448-0b61e5d2775e",
   "metadata": {},
   "outputs": [
    {
     "data": {
      "text/html": [
       "<div>\n",
       "<style scoped>\n",
       "    .dataframe tbody tr th:only-of-type {\n",
       "        vertical-align: middle;\n",
       "    }\n",
       "\n",
       "    .dataframe tbody tr th {\n",
       "        vertical-align: top;\n",
       "    }\n",
       "\n",
       "    .dataframe thead th {\n",
       "        text-align: right;\n",
       "    }\n",
       "</style>\n",
       "<table border=\"1\" class=\"dataframe\">\n",
       "  <thead>\n",
       "    <tr style=\"text-align: right;\">\n",
       "      <th></th>\n",
       "      <th>AAPL</th>\n",
       "      <th>AMZN</th>\n",
       "      <th>JPM</th>\n",
       "      <th>JNJ</th>\n",
       "      <th>XOM</th>\n",
       "      <th>GE</th>\n",
       "      <th>HD</th>\n",
       "    </tr>\n",
       "    <tr>\n",
       "      <th>DlyCalDt</th>\n",
       "      <th></th>\n",
       "      <th></th>\n",
       "      <th></th>\n",
       "      <th></th>\n",
       "      <th></th>\n",
       "      <th></th>\n",
       "      <th></th>\n",
       "    </tr>\n",
       "  </thead>\n",
       "  <tbody>\n",
       "    <tr>\n",
       "      <th>2012-01-09</th>\n",
       "      <td>3.931426e+08</td>\n",
       "      <td>8.124480e+07</td>\n",
       "      <td>1.341317e+08</td>\n",
       "      <td>1.773140e+08</td>\n",
       "      <td>4.098193e+08</td>\n",
       "      <td>1.991116e+08</td>\n",
       "      <td>6.664198e+07</td>\n",
       "    </tr>\n",
       "    <tr>\n",
       "      <th>2012-01-16</th>\n",
       "      <td>3.914182e+08</td>\n",
       "      <td>8.118110e+07</td>\n",
       "      <td>1.364876e+08</td>\n",
       "      <td>1.782152e+08</td>\n",
       "      <td>4.068475e+08</td>\n",
       "      <td>1.989005e+08</td>\n",
       "      <td>6.707362e+07</td>\n",
       "    </tr>\n",
       "    <tr>\n",
       "      <th>2012-01-23</th>\n",
       "      <td>3.985033e+08</td>\n",
       "      <td>8.468360e+07</td>\n",
       "      <td>1.430992e+08</td>\n",
       "      <td>1.775052e+08</td>\n",
       "      <td>4.192619e+08</td>\n",
       "      <td>1.999562e+08</td>\n",
       "      <td>6.918557e+07</td>\n",
       "    </tr>\n",
       "    <tr>\n",
       "      <th>2012-01-30</th>\n",
       "      <td>4.223729e+08</td>\n",
       "      <td>8.744132e+07</td>\n",
       "      <td>1.406293e+08</td>\n",
       "      <td>1.794441e+08</td>\n",
       "      <td>4.097714e+08</td>\n",
       "      <td>1.995339e+08</td>\n",
       "      <td>6.901600e+07</td>\n",
       "    </tr>\n",
       "    <tr>\n",
       "      <th>2012-02-06</th>\n",
       "      <td>4.325917e+08</td>\n",
       "      <td>8.334115e+07</td>\n",
       "      <td>1.449231e+08</td>\n",
       "      <td>1.780240e+08</td>\n",
       "      <td>4.110176e+08</td>\n",
       "      <td>2.011175e+08</td>\n",
       "      <td>6.967887e+07</td>\n",
       "    </tr>\n",
       "    <tr>\n",
       "      <th>...</th>\n",
       "      <td>...</td>\n",
       "      <td>...</td>\n",
       "      <td>...</td>\n",
       "      <td>...</td>\n",
       "      <td>...</td>\n",
       "      <td>...</td>\n",
       "      <td>...</td>\n",
       "    </tr>\n",
       "    <tr>\n",
       "      <th>2022-11-28</th>\n",
       "      <td>2.294269e+09</td>\n",
       "      <td>9.584454e+08</td>\n",
       "      <td>3.939910e+08</td>\n",
       "      <td>4.636264e+08</td>\n",
       "      <td>4.576481e+08</td>\n",
       "      <td>9.339033e+07</td>\n",
       "      <td>3.264867e+08</td>\n",
       "    </tr>\n",
       "    <tr>\n",
       "      <th>2022-12-05</th>\n",
       "      <td>2.332607e+09</td>\n",
       "      <td>9.284525e+08</td>\n",
       "      <td>3.853351e+08</td>\n",
       "      <td>4.674174e+08</td>\n",
       "      <td>4.400396e+08</td>\n",
       "      <td>9.250527e+07</td>\n",
       "      <td>3.262211e+08</td>\n",
       "    </tr>\n",
       "    <tr>\n",
       "      <th>2022-12-12</th>\n",
       "      <td>2.298564e+09</td>\n",
       "      <td>9.237598e+08</td>\n",
       "      <td>3.936654e+08</td>\n",
       "      <td>4.649598e+08</td>\n",
       "      <td>4.369097e+08</td>\n",
       "      <td>9.092090e+07</td>\n",
       "      <td>3.342726e+08</td>\n",
       "    </tr>\n",
       "    <tr>\n",
       "      <th>2022-12-19</th>\n",
       "      <td>2.105758e+09</td>\n",
       "      <td>8.663245e+08</td>\n",
       "      <td>3.814926e+08</td>\n",
       "      <td>4.587897e+08</td>\n",
       "      <td>4.331209e+08</td>\n",
       "      <td>8.529366e+07</td>\n",
       "      <td>3.234183e+08</td>\n",
       "    </tr>\n",
       "    <tr>\n",
       "      <th>2022-12-26</th>\n",
       "      <td>2.097644e+09</td>\n",
       "      <td>8.696910e+08</td>\n",
       "      <td>3.850712e+08</td>\n",
       "      <td>4.640186e+08</td>\n",
       "      <td>4.475761e+08</td>\n",
       "      <td>8.936932e+07</td>\n",
       "      <td>3.248452e+08</td>\n",
       "    </tr>\n",
       "  </tbody>\n",
       "</table>\n",
       "<p>573 rows × 7 columns</p>\n",
       "</div>"
      ],
      "text/plain": [
       "                    AAPL          AMZN           JPM           JNJ  \\\n",
       "DlyCalDt                                                             \n",
       "2012-01-09  3.931426e+08  8.124480e+07  1.341317e+08  1.773140e+08   \n",
       "2012-01-16  3.914182e+08  8.118110e+07  1.364876e+08  1.782152e+08   \n",
       "2012-01-23  3.985033e+08  8.468360e+07  1.430992e+08  1.775052e+08   \n",
       "2012-01-30  4.223729e+08  8.744132e+07  1.406293e+08  1.794441e+08   \n",
       "2012-02-06  4.325917e+08  8.334115e+07  1.449231e+08  1.780240e+08   \n",
       "...                  ...           ...           ...           ...   \n",
       "2022-11-28  2.294269e+09  9.584454e+08  3.939910e+08  4.636264e+08   \n",
       "2022-12-05  2.332607e+09  9.284525e+08  3.853351e+08  4.674174e+08   \n",
       "2022-12-12  2.298564e+09  9.237598e+08  3.936654e+08  4.649598e+08   \n",
       "2022-12-19  2.105758e+09  8.663245e+08  3.814926e+08  4.587897e+08   \n",
       "2022-12-26  2.097644e+09  8.696910e+08  3.850712e+08  4.640186e+08   \n",
       "\n",
       "                     XOM            GE            HD  \n",
       "DlyCalDt                                              \n",
       "2012-01-09  4.098193e+08  1.991116e+08  6.664198e+07  \n",
       "2012-01-16  4.068475e+08  1.989005e+08  6.707362e+07  \n",
       "2012-01-23  4.192619e+08  1.999562e+08  6.918557e+07  \n",
       "2012-01-30  4.097714e+08  1.995339e+08  6.901600e+07  \n",
       "2012-02-06  4.110176e+08  2.011175e+08  6.967887e+07  \n",
       "...                  ...           ...           ...  \n",
       "2022-11-28  4.576481e+08  9.339033e+07  3.264867e+08  \n",
       "2022-12-05  4.400396e+08  9.250527e+07  3.262211e+08  \n",
       "2022-12-12  4.369097e+08  9.092090e+07  3.342726e+08  \n",
       "2022-12-19  4.331209e+08  8.529366e+07  3.234183e+08  \n",
       "2022-12-26  4.475761e+08  8.936932e+07  3.248452e+08  \n",
       "\n",
       "[573 rows x 7 columns]"
      ]
     },
     "metadata": {},
     "output_type": "display_data"
    },
    {
     "data": {
      "text/html": [
       "<div>\n",
       "<style scoped>\n",
       "    .dataframe tbody tr th:only-of-type {\n",
       "        vertical-align: middle;\n",
       "    }\n",
       "\n",
       "    .dataframe tbody tr th {\n",
       "        vertical-align: top;\n",
       "    }\n",
       "\n",
       "    .dataframe thead th {\n",
       "        text-align: right;\n",
       "    }\n",
       "</style>\n",
       "<table border=\"1\" class=\"dataframe\">\n",
       "  <thead>\n",
       "    <tr style=\"text-align: right;\">\n",
       "      <th></th>\n",
       "      <th>AAPL</th>\n",
       "      <th>AMZN</th>\n",
       "      <th>JPM</th>\n",
       "      <th>JNJ</th>\n",
       "      <th>XOM</th>\n",
       "      <th>GE</th>\n",
       "      <th>HD</th>\n",
       "    </tr>\n",
       "    <tr>\n",
       "      <th>Date</th>\n",
       "      <th></th>\n",
       "      <th></th>\n",
       "      <th></th>\n",
       "      <th></th>\n",
       "      <th></th>\n",
       "      <th></th>\n",
       "      <th></th>\n",
       "    </tr>\n",
       "  </thead>\n",
       "  <tbody>\n",
       "    <tr>\n",
       "      <th>2012-01-09</th>\n",
       "      <td>0.001167</td>\n",
       "      <td>0.067767</td>\n",
       "      <td>0.039306</td>\n",
       "      <td>0.000153</td>\n",
       "      <td>0.030286</td>\n",
       "      <td>0.016320</td>\n",
       "      <td>0.022723</td>\n",
       "    </tr>\n",
       "    <tr>\n",
       "      <th>2012-01-16</th>\n",
       "      <td>0.001167</td>\n",
       "      <td>0.067767</td>\n",
       "      <td>0.039306</td>\n",
       "      <td>0.000153</td>\n",
       "      <td>0.030286</td>\n",
       "      <td>0.016320</td>\n",
       "      <td>0.022723</td>\n",
       "    </tr>\n",
       "    <tr>\n",
       "      <th>2012-01-23</th>\n",
       "      <td>0.062216</td>\n",
       "      <td>0.022988</td>\n",
       "      <td>-0.004023</td>\n",
       "      <td>0.004433</td>\n",
       "      <td>-0.019156</td>\n",
       "      <td>-0.006286</td>\n",
       "      <td>0.008056</td>\n",
       "    </tr>\n",
       "    <tr>\n",
       "      <th>2012-01-30</th>\n",
       "      <td>0.027346</td>\n",
       "      <td>-0.040157</td>\n",
       "      <td>0.028350</td>\n",
       "      <td>0.001220</td>\n",
       "      <td>-0.010659</td>\n",
       "      <td>-0.000526</td>\n",
       "      <td>0.006664</td>\n",
       "    </tr>\n",
       "    <tr>\n",
       "      <th>2012-02-06</th>\n",
       "      <td>0.070830</td>\n",
       "      <td>-0.011468</td>\n",
       "      <td>-0.017658</td>\n",
       "      <td>-0.015971</td>\n",
       "      <td>-0.013277</td>\n",
       "      <td>-0.007388</td>\n",
       "      <td>0.003536</td>\n",
       "    </tr>\n",
       "    <tr>\n",
       "      <th>...</th>\n",
       "      <td>...</td>\n",
       "      <td>...</td>\n",
       "      <td>...</td>\n",
       "      <td>...</td>\n",
       "      <td>...</td>\n",
       "      <td>...</td>\n",
       "      <td>...</td>\n",
       "    </tr>\n",
       "    <tr>\n",
       "      <th>2022-11-28</th>\n",
       "      <td>-0.002028</td>\n",
       "      <td>0.007678</td>\n",
       "      <td>-0.011622</td>\n",
       "      <td>0.009210</td>\n",
       "      <td>-0.030038</td>\n",
       "      <td>-0.014399</td>\n",
       "      <td>0.004921</td>\n",
       "    </tr>\n",
       "    <tr>\n",
       "      <th>2022-12-05</th>\n",
       "      <td>-0.038974</td>\n",
       "      <td>-0.055030</td>\n",
       "      <td>-0.022446</td>\n",
       "      <td>-0.017710</td>\n",
       "      <td>-0.059249</td>\n",
       "      <td>-0.064539</td>\n",
       "      <td>-0.023163</td>\n",
       "    </tr>\n",
       "    <tr>\n",
       "      <th>2022-12-12</th>\n",
       "      <td>-0.055315</td>\n",
       "      <td>-0.013902</td>\n",
       "      <td>-0.021955</td>\n",
       "      <td>-0.000398</td>\n",
       "      <td>0.011141</td>\n",
       "      <td>-0.047778</td>\n",
       "      <td>0.008884</td>\n",
       "    </tr>\n",
       "    <tr>\n",
       "      <th>2022-12-19</th>\n",
       "      <td>-0.019898</td>\n",
       "      <td>-0.030157</td>\n",
       "      <td>0.015275</td>\n",
       "      <td>0.010251</td>\n",
       "      <td>0.037309</td>\n",
       "      <td>0.051943</td>\n",
       "      <td>-0.014360</td>\n",
       "    </tr>\n",
       "    <tr>\n",
       "      <th>2022-12-26</th>\n",
       "      <td>-0.014745</td>\n",
       "      <td>-0.014771</td>\n",
       "      <td>0.021253</td>\n",
       "      <td>-0.004688</td>\n",
       "      <td>0.014796</td>\n",
       "      <td>0.024159</td>\n",
       "      <td>-0.009045</td>\n",
       "    </tr>\n",
       "  </tbody>\n",
       "</table>\n",
       "<p>573 rows × 7 columns</p>\n",
       "</div>"
      ],
      "text/plain": [
       "                AAPL      AMZN       JPM       JNJ       XOM        GE  \\\n",
       "Date                                                                     \n",
       "2012-01-09  0.001167  0.067767  0.039306  0.000153  0.030286  0.016320   \n",
       "2012-01-16  0.001167  0.067767  0.039306  0.000153  0.030286  0.016320   \n",
       "2012-01-23  0.062216  0.022988 -0.004023  0.004433 -0.019156 -0.006286   \n",
       "2012-01-30  0.027346 -0.040157  0.028350  0.001220 -0.010659 -0.000526   \n",
       "2012-02-06  0.070830 -0.011468 -0.017658 -0.015971 -0.013277 -0.007388   \n",
       "...              ...       ...       ...       ...       ...       ...   \n",
       "2022-11-28 -0.002028  0.007678 -0.011622  0.009210 -0.030038 -0.014399   \n",
       "2022-12-05 -0.038974 -0.055030 -0.022446 -0.017710 -0.059249 -0.064539   \n",
       "2022-12-12 -0.055315 -0.013902 -0.021955 -0.000398  0.011141 -0.047778   \n",
       "2022-12-19 -0.019898 -0.030157  0.015275  0.010251  0.037309  0.051943   \n",
       "2022-12-26 -0.014745 -0.014771  0.021253 -0.004688  0.014796  0.024159   \n",
       "\n",
       "                  HD  \n",
       "Date                  \n",
       "2012-01-09  0.022723  \n",
       "2012-01-16  0.022723  \n",
       "2012-01-23  0.008056  \n",
       "2012-01-30  0.006664  \n",
       "2012-02-06  0.003536  \n",
       "...              ...  \n",
       "2022-11-28  0.004921  \n",
       "2022-12-05 -0.023163  \n",
       "2022-12-12  0.008884  \n",
       "2022-12-19 -0.014360  \n",
       "2022-12-26 -0.009045  \n",
       "\n",
       "[573 rows x 7 columns]"
      ]
     },
     "metadata": {},
     "output_type": "display_data"
    },
    {
     "data": {
      "text/html": [
       "<div>\n",
       "<style scoped>\n",
       "    .dataframe tbody tr th:only-of-type {\n",
       "        vertical-align: middle;\n",
       "    }\n",
       "\n",
       "    .dataframe tbody tr th {\n",
       "        vertical-align: top;\n",
       "    }\n",
       "\n",
       "    .dataframe thead th {\n",
       "        text-align: right;\n",
       "    }\n",
       "</style>\n",
       "<table border=\"1\" class=\"dataframe\">\n",
       "  <thead>\n",
       "    <tr style=\"text-align: right;\">\n",
       "      <th></th>\n",
       "      <th>risk free weekly</th>\n",
       "    </tr>\n",
       "    <tr>\n",
       "      <th>DATE</th>\n",
       "      <th></th>\n",
       "    </tr>\n",
       "  </thead>\n",
       "  <tbody>\n",
       "    <tr>\n",
       "      <th>2012-01-09</th>\n",
       "      <td>0.000008</td>\n",
       "    </tr>\n",
       "    <tr>\n",
       "      <th>2012-01-16</th>\n",
       "      <td>0.000008</td>\n",
       "    </tr>\n",
       "    <tr>\n",
       "      <th>2012-01-23</th>\n",
       "      <td>0.000033</td>\n",
       "    </tr>\n",
       "    <tr>\n",
       "      <th>2012-01-30</th>\n",
       "      <td>0.000042</td>\n",
       "    </tr>\n",
       "    <tr>\n",
       "      <th>2012-02-06</th>\n",
       "      <td>0.000067</td>\n",
       "    </tr>\n",
       "    <tr>\n",
       "      <th>...</th>\n",
       "      <td>...</td>\n",
       "    </tr>\n",
       "    <tr>\n",
       "      <th>2022-11-28</th>\n",
       "      <td>0.003515</td>\n",
       "    </tr>\n",
       "    <tr>\n",
       "      <th>2022-12-05</th>\n",
       "      <td>0.003491</td>\n",
       "    </tr>\n",
       "    <tr>\n",
       "      <th>2022-12-12</th>\n",
       "      <td>0.003507</td>\n",
       "    </tr>\n",
       "    <tr>\n",
       "      <th>2022-12-19</th>\n",
       "      <td>0.003499</td>\n",
       "    </tr>\n",
       "    <tr>\n",
       "      <th>2022-12-26</th>\n",
       "      <td>0.003499</td>\n",
       "    </tr>\n",
       "  </tbody>\n",
       "</table>\n",
       "<p>573 rows × 1 columns</p>\n",
       "</div>"
      ],
      "text/plain": [
       "            risk free weekly\n",
       "DATE                        \n",
       "2012-01-09          0.000008\n",
       "2012-01-16          0.000008\n",
       "2012-01-23          0.000033\n",
       "2012-01-30          0.000042\n",
       "2012-02-06          0.000067\n",
       "...                      ...\n",
       "2022-11-28          0.003515\n",
       "2022-12-05          0.003491\n",
       "2022-12-12          0.003507\n",
       "2022-12-19          0.003499\n",
       "2022-12-26          0.003499\n",
       "\n",
       "[573 rows x 1 columns]"
      ]
     },
     "metadata": {},
     "output_type": "display_data"
    },
    {
     "data": {
      "text/html": [
       "<div>\n",
       "<style scoped>\n",
       "    .dataframe tbody tr th:only-of-type {\n",
       "        vertical-align: middle;\n",
       "    }\n",
       "\n",
       "    .dataframe tbody tr th {\n",
       "        vertical-align: top;\n",
       "    }\n",
       "\n",
       "    .dataframe thead th {\n",
       "        text-align: right;\n",
       "    }\n",
       "</style>\n",
       "<table border=\"1\" class=\"dataframe\">\n",
       "  <thead>\n",
       "    <tr style=\"text-align: right;\">\n",
       "      <th></th>\n",
       "      <th>Return</th>\n",
       "    </tr>\n",
       "  </thead>\n",
       "  <tbody>\n",
       "    <tr>\n",
       "      <th>2012-01-09</th>\n",
       "      <td>0.000000</td>\n",
       "    </tr>\n",
       "    <tr>\n",
       "      <th>2012-01-16</th>\n",
       "      <td>0.006551</td>\n",
       "    </tr>\n",
       "    <tr>\n",
       "      <th>2012-01-23</th>\n",
       "      <td>0.020875</td>\n",
       "    </tr>\n",
       "    <tr>\n",
       "      <th>2012-01-30</th>\n",
       "      <td>-0.002272</td>\n",
       "    </tr>\n",
       "    <tr>\n",
       "      <th>2012-02-06</th>\n",
       "      <td>0.023854</td>\n",
       "    </tr>\n",
       "    <tr>\n",
       "      <th>...</th>\n",
       "      <td>...</td>\n",
       "    </tr>\n",
       "    <tr>\n",
       "      <th>2022-11-28</th>\n",
       "      <td>0.003544</td>\n",
       "    </tr>\n",
       "    <tr>\n",
       "      <th>2022-12-05</th>\n",
       "      <td>0.008804</td>\n",
       "    </tr>\n",
       "    <tr>\n",
       "      <th>2022-12-12</th>\n",
       "      <td>-0.002071</td>\n",
       "    </tr>\n",
       "    <tr>\n",
       "      <th>2022-12-19</th>\n",
       "      <td>-0.043327</td>\n",
       "    </tr>\n",
       "    <tr>\n",
       "      <th>2022-12-26</th>\n",
       "      <td>0.007114</td>\n",
       "    </tr>\n",
       "  </tbody>\n",
       "</table>\n",
       "<p>573 rows × 1 columns</p>\n",
       "</div>"
      ],
      "text/plain": [
       "              Return\n",
       "2012-01-09  0.000000\n",
       "2012-01-16  0.006551\n",
       "2012-01-23  0.020875\n",
       "2012-01-30 -0.002272\n",
       "2012-02-06  0.023854\n",
       "...              ...\n",
       "2022-11-28  0.003544\n",
       "2022-12-05  0.008804\n",
       "2022-12-12 -0.002071\n",
       "2022-12-19 -0.043327\n",
       "2022-12-26  0.007114\n",
       "\n",
       "[573 rows x 1 columns]"
      ]
     },
     "metadata": {},
     "output_type": "display_data"
    }
   ],
   "source": [
    "start_date = pd.to_datetime('2012-01-09')\n",
    "end_date = pd.to_datetime('2022-12-26')\n",
    "\n",
    "# List of tickers\n",
    "tickers = ['AAPL', 'AMZN', 'JPM', 'JNJ', 'XOM', 'GE', 'HD']\n",
    "N_assets = len(tickers)\n",
    "\n",
    "################### Get Marktet Capitalization data for each stock\n",
    "df_market_cap = pd.DataFrame()\n",
    "\n",
    "for ticker in tickers:\n",
    "    ticker_data = raw_data[raw_data['Ticker']==ticker].copy()\n",
    "    ticker_data.index = pd.to_datetime(ticker_data['DlyCalDt'])\n",
    "    ticker_weekly_df = ticker_data.resample('W-MON').last()\n",
    "    ticker_weekly_df = ticker_weekly_df[ticker_weekly_df.index <= end_date ]\n",
    "    # print(ticker_weekly_df)\n",
    "    df_market_cap.index = ticker_weekly_df.index\n",
    "    df_market_cap[ticker] = ticker_weekly_df['DlyCap']\n",
    "display(df_market_cap)\n",
    "\n",
    "################### Get Marktet Capitalization data for each stock\n",
    "df_rate_of_return = pd.DataFrame()\n",
    "\n",
    "Market_data_estimate = df_data[(df_data.index >= start_date) & (df_data.index <= end_date)]\n",
    "invariants = np.diff(np.log(Market_data_estimate), axis=0)\n",
    "\n",
    "a = np.r_[np.ones(N_assets).reshape(1, -1)*np.nan, invariants]\n",
    "imputed_a = impy.imputation.ts.locf(a.T, axis=0)\n",
    "#print(imputed_a)\n",
    "\n",
    "df_rate_of_return = pd.DataFrame(data=imputed_a, columns=Market_data_estimate.columns, index=Market_data_estimate.index)\n",
    "display(df_rate_of_return)\n",
    "\n",
    "################### Get risk-free rate of return\n",
    "df_risk_free_rate = pd.read_csv('DTB3.csv')\n",
    "df_risk_free_rate.index = pd.to_datetime(df_risk_free_rate['DATE'])\n",
    "df_risk_free_rate = df_risk_free_rate.resample('W-MON').last()\n",
    "df_risk_free_rate = df_risk_free_rate[df_risk_free_rate.index <= end_date ]\n",
    "df_risk_free_rate = df_risk_free_rate.drop(columns=['DATE'])\n",
    "df_risk_free_rate = df_risk_free_rate.replace('.', np.nan)\n",
    "df_risk_free_rate = df_risk_free_rate.astype('float')\n",
    "# Apply imputation technique in dealing with missing values\n",
    "\"\"\"\n",
    "For each set of missing indices, use the value of one row before(same column). \n",
    "In the case that the missing value is the first row, look one row ahead instead. \n",
    "If this next row is also NaN, look to the next row. Repeat until you find a row in this column that’s not NaN. \n",
    "All the rows before will be filled with this value.\n",
    "\"\"\"\n",
    "df_risk_free_rate['DTB3'] = impy.imputation.ts.locf(df_risk_free_rate['DTB3'].values.reshape(1,-1), axis=0)\n",
    "df_risk_free_rate['risk free weekly'] = (1+df_risk_free_rate['DTB3']/100)**(1/12)-1\n",
    "df_risk_free_rate = df_risk_free_rate.drop(columns=['DTB3'])\n",
    "display(df_risk_free_rate)\n",
    "\n",
    "\n",
    "################### Get S&P500 weekly returns\n",
    "ticker = '^GSPC'\n",
    "\n",
    "# Download historical market data\n",
    "sp500 = yf.Ticker(ticker)\n",
    "hist = sp500.history(start=start_date, end=end_date)\n",
    "\n",
    "# Calculate daily returns\n",
    "hist['Return'] = hist['Close'].pct_change()\n",
    "\n",
    "# Convert daily returns to weekly returns\n",
    "hist.index = pd.to_datetime(hist.index)\n",
    "SP500_weekly_returns = hist['Return'].resample('W-MON').apply(lambda x: (1 + x).prod() - 1)\n",
    "SP500_weekly_returns = pd.DataFrame(SP500_weekly_returns)\n",
    "SP500_weekly_returns.index = [pd.to_datetime(datetime.date()) for datetime in SP500_weekly_returns.index]\n",
    "display(SP500_weekly_returns)"
   ]
  },
  {
   "cell_type": "markdown",
   "id": "54eea3b0-9642-4c66-9483-ab787209e0b1",
   "metadata": {},
   "source": [
    "# Specifiy risk factors for APT model"
   ]
  },
  {
   "cell_type": "markdown",
   "id": "0d2455c1-792f-4946-8bc6-613b294a337e",
   "metadata": {},
   "source": [
    "We construct our model to contain five of the most commonlystudied and well-known sources of systematic risk: \n",
    "- market beta, \n",
    "- size, \n",
    "- value, \n",
    "- momentum, and \n",
    "- volatility, \n",
    "- a classification of the stocks into industries."
   ]
  },
  {
   "cell_type": "code",
   "execution_count": 108,
   "id": "94fc9227-e6a6-4b9c-b78d-b7ee1ae981b5",
   "metadata": {
    "tags": []
   },
   "outputs": [],
   "source": [
    "# Specify the range for estimation\n",
    "end_estimation_date = pd.to_datetime('2017-01-02')\n",
    "\n",
    "df_esti_market_cap = df_market_cap[df_market_cap.index <= end_estimation_date]\n",
    "df_esti_rate_of_return = df_rate_of_return[df_rate_of_return.index <= end_estimation_date]\n",
    "df_esti_risk_free_rate = df_risk_free_rate[df_risk_free_rate.index <= end_estimation_date]\n",
    "SP500_esti_weekly_returns = SP500_weekly_returns[SP500_weekly_returns.index <= end_estimation_date]"
   ]
  },
  {
   "cell_type": "markdown",
   "id": "c36e986a-456c-41bf-b896-a7633037812f",
   "metadata": {},
   "source": [
    "### Market Beta and Volatility"
   ]
  },
  {
   "cell_type": "code",
   "execution_count": 109,
   "id": "d063cb6f-9141-4ce3-896d-03021b25d5a5",
   "metadata": {},
   "outputs": [
    {
     "data": {
      "text/plain": [
       "([0.2332692615705643,\n",
       "  0.11796105525619745,\n",
       "  0.1400086619766038,\n",
       "  0.06775455654366663,\n",
       "  -0.09441731480692164,\n",
       "  0.03457469348017234,\n",
       "  0.05369536722465769],\n",
       " [0.5963459820084884,\n",
       "  0.6555704849687317,\n",
       "  0.4997374524602809,\n",
       "  0.2876187140011572,\n",
       "  0.36391784739393834,\n",
       "  0.409836502339327,\n",
       "  0.41107252779650477])"
      ]
     },
     "execution_count": 109,
     "metadata": {},
     "output_type": "execute_result"
    }
   ],
   "source": [
    "market_betas = []\n",
    "volatilities = []\n",
    "\n",
    "tickers = ['AAPL', 'AMZN', 'JPM', 'JNJ', 'XOM', 'GE', 'HD']\n",
    "for ticker in tickers:\n",
    "    ticker_excess_return = np.array(df_esti_rate_of_return[ticker]-df_esti_risk_free_rate['risk free weekly'])\n",
    "    market_excess_return = np.array(SP500_esti_weekly_returns['Return'] - df_esti_risk_free_rate['risk free weekly'])\n",
    "    ticker_beta = (1/(market_excess_return@market_excess_return))*market_excess_return.T@ticker_excess_return\n",
    "    market_betas.append(ticker_beta)\n",
    "    ticker_vol = np.sqrt((ticker_excess_return-ticker_beta*market_excess_return)@(ticker_excess_return-ticker_beta*market_excess_return))\n",
    "    volatilities.append(ticker_vol)\n",
    "market_betas, volatilities"
   ]
  },
  {
   "cell_type": "markdown",
   "id": "3a6bb4c4-50c0-4b7f-afb6-86a2413532e8",
   "metadata": {},
   "source": [
    "### Size"
   ]
  },
  {
   "cell_type": "code",
   "execution_count": 110,
   "id": "183c3537-e4c3-49b9-a6cc-674955212faa",
   "metadata": {},
   "outputs": [
    {
     "data": {
      "text/plain": [
       "[608960249.12,\n",
       " 357687990.0,\n",
       " 308768400.56,\n",
       " 313432491.72,\n",
       " 374280510.18,\n",
       " 279545924.0,\n",
       " 163331026.88]"
      ]
     },
     "execution_count": 110,
     "metadata": {},
     "output_type": "execute_result"
    }
   ],
   "source": [
    "size = []\n",
    "tickers = ['AAPL', 'AMZN', 'JPM', 'JNJ', 'XOM', 'GE', 'HD']\n",
    "for ticker in tickers:\n",
    "    ticker_size = df_esti_market_cap[ticker].iloc[-1]\n",
    "    size.append(ticker_size)\n",
    "size"
   ]
  },
  {
   "cell_type": "markdown",
   "id": "d56c7cb4-5c8e-4aff-96a3-3b6b86a3f0f3",
   "metadata": {},
   "source": [
    "### Momentum"
   ]
  },
  {
   "cell_type": "code",
   "execution_count": 113,
   "id": "1ca4e518-9841-49d9-89a5-8ec0b3aa51ad",
   "metadata": {},
   "outputs": [
    {
     "data": {
      "text/plain": [
       "[0.6425400659006446,\n",
       " 2.8598285580055953,\n",
       " 1.1981670953765278,\n",
       " 0.7101084912759121,\n",
       " 0.005003316949160341,\n",
       " 0.5690579636238304,\n",
       " 1.8867802083303533]"
      ]
     },
     "execution_count": 113,
     "metadata": {},
     "output_type": "execute_result"
    }
   ],
   "source": [
    "momentum = []\n",
    "tickers = ['AAPL', 'AMZN', 'JPM', 'JNJ', 'XOM', 'GE', 'HD']\n",
    "for ticker in tickers:\n",
    "    ticker_rate_of_returns = df_esti_rate_of_return[ticker]\n",
    "    ticker_momentum =  np.exp(np.sum(np.log(1+ticker_rate_of_returns)))-1\n",
    "    momentum.append(ticker_momentum)\n",
    "momentum"
   ]
  },
  {
   "cell_type": "markdown",
   "id": "5dfedc1f-9463-437f-9642-6c38f2b39adb",
   "metadata": {},
   "source": [
    "### Step 3: Aggregated to factor loadings"
   ]
  },
  {
   "cell_type": "code",
   "execution_count": 115,
   "id": "b102116f-13ea-4175-93dc-fae9b6a0eb25",
   "metadata": {},
   "outputs": [
    {
     "data": {
      "text/plain": [
       "array([[ 2.33269262e-01,  6.08960249e+08,  5.96345982e-01,\n",
       "         6.42540066e-01],\n",
       "       [ 1.17961055e-01,  3.57687990e+08,  6.55570485e-01,\n",
       "         2.85982856e+00],\n",
       "       [ 1.40008662e-01,  3.08768401e+08,  4.99737452e-01,\n",
       "         1.19816710e+00],\n",
       "       [ 6.77545565e-02,  3.13432492e+08,  2.87618714e-01,\n",
       "         7.10108491e-01],\n",
       "       [-9.44173148e-02,  3.74280510e+08,  3.63917847e-01,\n",
       "         5.00331695e-03],\n",
       "       [ 3.45746935e-02,  2.79545924e+08,  4.09836502e-01,\n",
       "         5.69057964e-01],\n",
       "       [ 5.36953672e-02,  1.63331027e+08,  4.11072528e-01,\n",
       "         1.88678021e+00]])"
      ]
     },
     "execution_count": 115,
     "metadata": {},
     "output_type": "execute_result"
    }
   ],
   "source": [
    "X = [market_betas, size, volatilities, momentum]\n",
    "X = np.array(X).T\n",
    "X"
   ]
  },
  {
   "cell_type": "markdown",
   "id": "7528799d-63c0-4d90-aba9-2d0e8a7bc4ca",
   "metadata": {},
   "source": [
    "### Step 5: Calculate OLS factor return $\\boldsymbol{f}$"
   ]
  },
  {
   "cell_type": "code",
   "execution_count": 117,
   "id": "acf486cf-e147-4d37-9649-c0ed3c0902ef",
   "metadata": {},
   "outputs": [
    {
     "data": {
      "text/plain": [
       "(array([ 0.01745209,  0.05925446, -0.00240433,  0.00898424, -0.02012417,\n",
       "        -0.00011593, -0.00454279]),\n",
       " array([ 6.51235923e-02,  1.25147624e-10, -1.61723787e-01,  3.26345292e-02]))"
      ]
     },
     "execution_count": 117,
     "metadata": {},
     "output_type": "execute_result"
    }
   ],
   "source": [
    "r_current_excess = df_esti_rate_of_return.iloc[-1].values-df_esti_risk_free_rate.iloc[-1].values\n",
    "f = np.linalg.inv(X.T@X)@X.T@r_current_excess\n",
    "r_current_excess,f"
   ]
  },
  {
   "cell_type": "markdown",
   "id": "8470436f-c34d-4e38-9e3a-74aa9529ca77",
   "metadata": {},
   "source": [
    "## Aggregate together"
   ]
  },
  {
   "cell_type": "code",
   "execution_count": 133,
   "id": "5e749e04-138f-4f70-b5ed-416478c677e7",
   "metadata": {},
   "outputs": [
    {
     "name": "stdout",
     "output_type": "stream",
     "text": [
      "312\n",
      "[[ 2.36283187e-01  2.09764444e+09  8.47851205e-01  2.16056462e+00]\n",
      " [ 1.52465331e-01  8.69691004e+08  1.01423580e+00  2.31017543e+00]\n",
      " [ 2.11697745e-01  3.85071152e+08  7.39740335e-01  1.35659808e+00]\n",
      " [ 1.97226752e-01  4.64018620e+08  2.73056582e-01  9.95944153e-01]\n",
      " [ 2.45206355e-01  4.47576083e+08  7.07623898e-01  2.92251507e-01]\n",
      " [ 1.87931148e-01  8.93693157e+07  1.14303937e+00 -5.31568967e-01]\n",
      " [ 1.41153850e-01  3.24845154e+08  6.70993223e-01  2.00503136e+00]]\n",
      "[ 6.45181056e-02 -9.72441515e-12  6.04691024e-03 -9.29821114e-03]\n",
      "[-0.01824353 -0.01826987  0.01775484 -0.00818612  0.01129761  0.02066011\n",
      " -0.01254391]\n",
      "(312, 4)\n"
     ]
    },
    {
     "data": {
      "image/png": "[encoded data removed]",
      "text/plain": [
       "<Figure size 432x288 with 1 Axes>"
      ]
     },
     "metadata": {
      "needs_background": "light"
     },
     "output_type": "display_data"
    }
   ],
   "source": [
    "end_investing_date = pd.to_datetime('2022-12-26')\n",
    "end_estimation_date = pd.to_datetime('2017-01-02')\n",
    "N_decisions = int((end_investing_date-end_estimation_date)/timedelta(weeks=1))\n",
    "print(N_decisions)\n",
    "all_f = []\n",
    "all_ϵ = []\n",
    "X_end = None\n",
    "\n",
    "for i in range(0, N_decisions):\n",
    "    end_estimation_date = end_estimation_date + timedelta(weeks=1)\n",
    "    \n",
    "    df_esti_market_cap = df_market_cap[df_market_cap.index <= end_estimation_date]\n",
    "    df_esti_rate_of_return = df_rate_of_return[df_rate_of_return.index <= end_estimation_date]\n",
    "    df_esti_risk_free_rate = df_risk_free_rate[df_risk_free_rate.index <= end_estimation_date]\n",
    "    SP500_esti_weekly_returns = SP500_weekly_returns[SP500_weekly_returns.index <= end_estimation_date]\n",
    "    \n",
    "    market_betas = []\n",
    "    volatilities = []\n",
    "    tickers = ['AAPL', 'AMZN', 'JPM', 'JNJ', 'XOM', 'GE', 'HD']\n",
    "    for ticker in tickers:\n",
    "        ticker_excess_return = np.array(df_esti_rate_of_return[ticker]-df_esti_risk_free_rate['risk free weekly'])\n",
    "        market_excess_return = np.array(SP500_esti_weekly_returns['Return'] - df_esti_risk_free_rate['risk free weekly'])\n",
    "        ticker_beta = (1/(market_excess_return@market_excess_return))*market_excess_return.T@ticker_excess_return\n",
    "        market_betas.append(ticker_beta)\n",
    "        ticker_vol = (ticker_excess_return-ticker_beta*market_excess_return)@(ticker_excess_return-ticker_beta*market_excess_return)\n",
    "        volatilities.append(ticker_vol)\n",
    "        \n",
    "    size = []\n",
    "    tickers = ['AAPL', 'AMZN', 'JPM', 'JNJ', 'XOM', 'GE', 'HD']\n",
    "    for ticker in tickers:\n",
    "        ticker_size = df_esti_market_cap[ticker].iloc[-1]\n",
    "        size.append(ticker_size)\n",
    "        \n",
    "    momentum = []\n",
    "    tickers = ['AAPL', 'AMZN', 'JPM', 'JNJ', 'XOM', 'GE', 'HD']\n",
    "    for ticker in tickers:\n",
    "        ticker_rate_of_returns = df_esti_rate_of_return[ticker]\n",
    "        # ticker_momentum =  np.exp(np.sum(np.log(1+ticker_rate_of_returns)))-1\n",
    "        ticker_momentum = np.sum(ticker_rate_of_returns)\n",
    "        momentum.append(ticker_momentum)\n",
    "        \n",
    "    X = [market_betas, size, volatilities, momentum]\n",
    "    X = np.array(X).T\n",
    "    \n",
    "    \n",
    "    \n",
    "    r_current_excess = df_esti_rate_of_return.iloc[-1].values - df_esti_risk_free_rate.iloc[-1].values\n",
    "    f = np.linalg.inv(X.T@X)@X.T@r_current_excess\n",
    "    # Use f as an estimation for μ_f\n",
    "    if i== N_decisions-1:\n",
    "        X_end=X\n",
    "        print(X)\n",
    "        print(f)\n",
    "        print(r_current_excess)\n",
    "    \n",
    "    all_f.append(f)\n",
    "    all_ϵ.append(r_current_excess-X@f)\n",
    "    \n",
    "all_f= np.array(all_f)\n",
    "all_ϵ = np.array(all_ϵ)\n",
    "print(all_f.shape)\n",
    "\n",
    "cumulative_f_beta = [np.sum(all_f[:i,0]) for i in range(1, N_decisions+1)]\n",
    "cumulative_f_size = [np.sum(all_f[:i,1]) for i in range(1, N_decisions+1)]\n",
    "cumulative_f_volatility = [np.sum(all_f[:i,2]) for i in range(1, N_decisions+1)]\n",
    "cumulative_f_momentum = [np.sum(all_f[:i,3]) for i in range(1, N_decisions+1)]\n",
    "\n",
    "da = [pd.to_datetime('2017-01-02')+i*timedelta(weeks=1) for i in range(0, N_decisions)]\n",
    "plt.plot(da, cumulative_f_beta, label='beta')\n",
    "plt.plot(da, cumulative_f_size, label='size')\n",
    "plt.plot(da, cumulative_f_volatility, label='volatility')\n",
    "plt.plot(da, cumulative_f_momentum, label='momentum' )\n",
    "plt.legend()\n",
    "plt.show()"
   ]
  },
  {
   "cell_type": "markdown",
   "id": "14f1a50f-a454-4808-84db-b558bd863067",
   "metadata": {},
   "source": [
    "# Stocks and market performance during the time"
   ]
  },
  {
   "cell_type": "code",
   "execution_count": 145,
   "id": "199b1993-a31f-43b8-957c-c41be38b37cf",
   "metadata": {},
   "outputs": [
    {
     "name": "stdout",
     "output_type": "stream",
     "text": [
      "[*********************100%***********************]  1 of 1 completed\n",
      "[*********************100%***********************]  1 of 1 completed\n",
      "[*********************100%***********************]  1 of 1 completed\n",
      "[*********************100%***********************]  1 of 1 completed\n",
      "[*********************100%***********************]  1 of 1 completed\n",
      "[*********************100%***********************]  1 of 1 completed\n",
      "[*********************100%***********************]  1 of 1 completed\n",
      "[*********************100%***********************]  1 of 1 completed\n"
     ]
    },
    {
     "data": {
      "text/plain": [
       "<AxesSubplot:xlabel='Date'>"
      ]
     },
     "execution_count": 145,
     "metadata": {},
     "output_type": "execute_result"
    },
    {
     "data": {
      "image/png": "[encoded data removed]",
      "text/plain": [
       "<Figure size 432x288 with 1 Axes>"
      ]
     },
     "metadata": {
      "needs_background": "light"
     },
     "output_type": "display_data"
    }
   ],
   "source": [
    "# Define start and end dates\n",
    "start_date = pd.to_datetime('2017-01-02')\n",
    "end_date = pd.to_datetime('2022-12-26')\n",
    "\n",
    "# List of tickers\n",
    "tickers_all = ['AAPL', 'AMZN', 'JPM', 'JNJ', 'XOM', 'GE', 'HD', '^GSPC']\n",
    "\n",
    "# Fetch the weekly stock data\n",
    "stock_data = {}\n",
    "for ticker in tickers_all:\n",
    "    stock_data[ticker] = yf.download(ticker, start=start_date, end=end_date, interval='1wk')\n",
    "\n",
    "# Extract the weekly closing prices\n",
    "weekly_closing_prices = pd.DataFrame()\n",
    "\n",
    "for stock, data in stock_data.items():\n",
    "    weekly_closing_prices[stock] = data['Close']\n",
    "    \n",
    "df_data_all = weekly_closing_prices\n",
    "df_data_all[df_data_all.columns[:-1]].plot(label='S&P500')"
   ]
  },
  {
   "cell_type": "code",
   "execution_count": 146,
   "id": "07933175-0a50-4164-b9a9-65fa8286be92",
   "metadata": {},
   "outputs": [
    {
     "data": {
      "text/plain": [
       "<matplotlib.legend.Legend at 0x7fe503af1220>"
      ]
     },
     "execution_count": 146,
     "metadata": {},
     "output_type": "execute_result"
    },
    {
     "data": {
      "image/png": "[encoded data removed]",
      "text/plain": [
       "<Figure size 432x288 with 1 Axes>"
      ]
     },
     "metadata": {
      "needs_background": "light"
     },
     "output_type": "display_data"
    }
   ],
   "source": [
    "df_data_all[df_data_all.columns[-1]].plot(label='S&P500')\n",
    "plt.legend()"
   ]
  },
  {
   "cell_type": "markdown",
   "id": "25b201b6-3ff3-4412-b285-92d7253af4cc",
   "metadata": {
    "jp-MarkdownHeadingCollapsed": true,
    "tags": []
   },
   "source": [
    "# whatnot"
   ]
  },
  {
   "cell_type": "code",
   "execution_count": 119,
   "id": "51e8d582-cea6-464f-8f34-3287a89ba064",
   "metadata": {
    "tags": []
   },
   "outputs": [
    {
     "data": {
      "text/plain": [
       "array([[ 9.07487848e-02, -9.26520172e-11,  1.26422169e-01,\n",
       "        -3.54329332e-03],\n",
       "       [ 3.67572395e-02,  6.86304946e-13, -3.61838769e-02,\n",
       "        -4.53093093e-03],\n",
       "       [ 6.34999802e-02, -6.41482365e-11,  1.07768226e-01,\n",
       "         4.73306370e-03],\n",
       "       ...,\n",
       "       [ 8.34596366e-02, -2.99340587e-11, -4.16370954e-02,\n",
       "         1.33879777e-02],\n",
       "       [ 1.81109493e-01, -1.09317619e-11,  2.69776305e-03,\n",
       "        -2.16605601e-02],\n",
       "       [ 6.45181056e-02, -9.72441515e-12,  6.04691024e-03,\n",
       "        -9.29821114e-03]])"
      ]
     },
     "execution_count": 119,
     "metadata": {},
     "output_type": "execute_result"
    }
   ],
   "source": [
    "all_f"
   ]
  },
  {
   "cell_type": "code",
   "execution_count": 120,
   "id": "adf2c99e-f0f5-4db6-902a-a4806cbb2be4",
   "metadata": {},
   "outputs": [
    {
     "data": {
      "text/plain": [
       "array([[ 2.36283187e-01,  2.09764444e+09,  8.47851205e-01,\n",
       "         2.16056462e+00],\n",
       "       [ 1.52465331e-01,  8.69691004e+08,  1.01423580e+00,\n",
       "         2.31017543e+00],\n",
       "       [ 2.11697745e-01,  3.85071152e+08,  7.39740335e-01,\n",
       "         1.35659808e+00],\n",
       "       [ 1.97226752e-01,  4.64018620e+08,  2.73056582e-01,\n",
       "         9.95944153e-01],\n",
       "       [ 2.45206355e-01,  4.47576083e+08,  7.07623898e-01,\n",
       "         2.92251507e-01],\n",
       "       [ 1.87931148e-01,  8.93693157e+07,  1.14303937e+00,\n",
       "        -5.31568967e-01],\n",
       "       [ 1.41153850e-01,  3.24845154e+08,  6.70993223e-01,\n",
       "         2.00503136e+00]])"
      ]
     },
     "execution_count": 120,
     "metadata": {},
     "output_type": "execute_result"
    }
   ],
   "source": [
    "X_end"
   ]
  },
  {
   "cell_type": "code",
   "execution_count": 121,
   "id": "9e41bf59-dbe1-44f4-9524-ad3fbdf6fd0b",
   "metadata": {},
   "outputs": [
    {
     "data": {
      "text/plain": [
       "array([ 6.45181056e-02, -9.72441515e-12,  6.04691024e-03, -9.29821114e-03])"
      ]
     },
     "execution_count": 121,
     "metadata": {},
     "output_type": "execute_result"
    }
   ],
   "source": [
    "f_k = all_f[-1,:]\n",
    "\n",
    "f_k"
   ]
  },
  {
   "cell_type": "code",
   "execution_count": 122,
   "id": "b0ee2417-5ec1-4bbe-81ec-41c4b5dab172",
   "metadata": {},
   "outputs": [
    {
     "data": {
      "text/plain": [
       "array([-0.02011633, -0.01396797,  0.00177295,  0.00060304,  0.01302936,\n",
       "        0.02311039, -0.00863772])"
      ]
     },
     "execution_count": 122,
     "metadata": {},
     "output_type": "execute_result"
    }
   ],
   "source": [
    "X_end@f_k"
   ]
  },
  {
   "cell_type": "code",
   "execution_count": 123,
   "id": "71a448bc-3a28-4f50-a9f7-801e232c4f9e",
   "metadata": {},
   "outputs": [
    {
     "data": {
      "text/plain": [
       "array([-0.01474497, -0.01477132,  0.0212534 , -0.00468756,  0.01479617,\n",
       "        0.02415867, -0.00904535])"
      ]
     },
     "execution_count": 123,
     "metadata": {},
     "output_type": "execute_result"
    }
   ],
   "source": [
    "r = df_esti_rate_of_return.iloc[-1].values\n",
    "r"
   ]
  },
  {
   "cell_type": "code",
   "execution_count": 124,
   "id": "40ca77b0-0206-4532-ba7f-220e86a3dd51",
   "metadata": {},
   "outputs": [
    {
     "data": {
      "text/plain": [
       "array([ 0.00537136, -0.00080335,  0.01948044, -0.0052906 ,  0.00176681,\n",
       "        0.00104827, -0.00040763])"
      ]
     },
     "execution_count": 124,
     "metadata": {},
     "output_type": "execute_result"
    }
   ],
   "source": [
    "r-X_end@f_k"
   ]
  },
  {
   "cell_type": "code",
   "execution_count": 125,
   "id": "09b83860-20dc-4dcb-8afb-57e4374bf56c",
   "metadata": {},
   "outputs": [],
   "source": [
    "def cal_mean_cov(ndarray: np.ndarray):\n",
    "    '''\n",
    "    Input: ndarray where each column represents the total samples for each invariant\n",
    "    \n",
    "    Sample mean and sample covariance\n",
    "    '''\n",
    "    #  compute the mean\n",
    "    mean = np.mean(ndarray, axis=0)\n",
    "    #  compute the covariance\n",
    "    cov = (1/ndarray.shape[0])*np.matmul((ndarray-mean).T, (ndarray-mean))\n",
    "    \n",
    "    return mean, cov"
   ]
  },
  {
   "cell_type": "code",
   "execution_count": 126,
   "id": "cad5bb93-0341-4ba0-a75f-7877d0f6ebb8",
   "metadata": {},
   "outputs": [
    {
     "data": {
      "text/plain": [
       "(array([-6.78246137e-03,  2.91349485e-12, -7.64311223e-03,  3.09459425e-03]),\n",
       " array([[ 9.48213142e-02, -4.05914082e-12, -1.29090301e-02,\n",
       "         -5.47369852e-03],\n",
       "        [-4.05914082e-12,  2.50904113e-21, -3.02820655e-12,\n",
       "          2.75684734e-13],\n",
       "        [-1.29090301e-02, -3.02820655e-12,  1.31767516e-02,\n",
       "         -2.57269639e-04],\n",
       "        [-5.47369852e-03,  2.75684734e-13, -2.57269639e-04,\n",
       "          6.57462194e-04]]))"
      ]
     },
     "execution_count": 126,
     "metadata": {},
     "output_type": "execute_result"
    }
   ],
   "source": [
    "mean_f, cov_f = cal_mean_cov(all_f)\n",
    "mean_f, cov_f"
   ]
  },
  {
   "cell_type": "code",
   "execution_count": 127,
   "id": "f74dd2a1-9872-415b-bf72-1229fb1fdffe",
   "metadata": {},
   "outputs": [],
   "source": [
    "F=cov_f\n",
    "ξ=mean_f\n",
    "V=cov_f\n",
    "q=f_k\n",
    "Ω=np.eye(4)*0.09"
   ]
  },
  {
   "cell_type": "code",
   "execution_count": 128,
   "id": "d2c5449d-670e-4828-ba17-484ca4c58023",
   "metadata": {},
   "outputs": [
    {
     "data": {
      "text/plain": [
       "(array([ 2.89540994e-02,  7.27871430e-13, -1.03191609e-02,  8.10999081e-04]),\n",
       " array([[ 4.57066757e-02, -2.17614692e-12, -5.54849735e-03,\n",
       "         -2.69007931e-03],\n",
       "        [-2.17614692e-12,  2.31245625e-21, -2.91340879e-12,\n",
       "          1.34026720e-13],\n",
       "        [-5.54849735e-03, -2.91340879e-12,  1.07983426e-02,\n",
       "         -5.59766205e-04],\n",
       "        [-2.69007931e-03,  1.34026720e-13, -5.59766205e-04,\n",
       "          4.88684576e-04]]))"
      ]
     },
     "execution_count": 128,
     "metadata": {},
     "output_type": "execute_result"
    }
   ],
   "source": [
    "E_θ_q=inv(inv(V)+inv(Ω))@(inv(V)@ξ+inv(Ω)@q)\n",
    "V_θ_q=inv(inv(V)+inv(Ω))\n",
    "E_θ_q, V_θ_q"
   ]
  },
  {
   "cell_type": "code",
   "execution_count": 129,
   "id": "890962d5-a871-4242-9d8d-a4b5a9efd4be",
   "metadata": {},
   "outputs": [
    {
     "data": {
      "text/plain": [
       "(array([ 0.00243302, -0.00062492, -0.00050988, -0.00235542, -0.00039103,\n",
       "        -0.00180891, -0.00011382]),\n",
       " array([[ 1.82277259e-04, -1.47055207e-04, -1.08333586e-05,\n",
       "         -1.00527391e-04, -1.42924055e-04, -2.17902982e-06,\n",
       "          1.05497749e-04],\n",
       "        [-1.47055207e-04,  3.61634120e-04, -1.35279634e-04,\n",
       "         -1.38766385e-05,  7.05012346e-05, -7.01359551e-05,\n",
       "         -2.47320650e-04],\n",
       "        [-1.08333586e-05, -1.35279634e-04,  5.03264337e-04,\n",
       "         -4.13033560e-05,  8.44502111e-06, -7.29468021e-05,\n",
       "         -1.59657904e-04],\n",
       "        [-1.00527391e-04, -1.38766385e-05, -4.13033560e-05,\n",
       "          3.38009846e-04, -8.53305959e-05,  1.52605724e-04,\n",
       "         -1.43158638e-05],\n",
       "        [-1.42924055e-04,  7.05012346e-05,  8.44502111e-06,\n",
       "         -8.53305959e-05,  4.18237211e-04, -1.57870925e-04,\n",
       "          5.15478294e-05],\n",
       "        [-2.17902982e-06, -7.01359551e-05, -7.29468021e-05,\n",
       "          1.52605724e-04, -1.57870925e-04,  1.92722328e-04,\n",
       "          5.91550604e-05],\n",
       "        [ 1.05497749e-04, -2.47320650e-04, -1.59657904e-04,\n",
       "         -1.43158638e-05,  5.15478294e-05,  5.91550604e-05,\n",
       "          3.64798131e-04]]))"
      ]
     },
     "execution_count": 129,
     "metadata": {},
     "output_type": "execute_result"
    }
   ],
   "source": [
    "mean_ϵ, cov_ϵ = cal_mean_cov(all_ϵ)\n",
    "mean_ϵ, cov_ϵ"
   ]
  },
  {
   "cell_type": "code",
   "execution_count": 130,
   "id": "58135de5-658f-4c5d-a317-4965f38db885",
   "metadata": {},
   "outputs": [
    {
     "data": {
      "text/plain": [
       "array([[ 5.05777293e-03,  2.88394959e-03,  5.66052851e-04,\n",
       "         4.67886131e-05, -2.75511519e-04, -3.34434691e-04,\n",
       "         1.40098367e-03],\n",
       "       [ 2.88394959e-03,  7.16218295e-03,  3.33569091e-03,\n",
       "        -4.48486468e-04,  2.02257565e-03,  6.05259709e-03,\n",
       "         4.18941874e-03],\n",
       "       [ 5.66052851e-04,  3.33569091e-03,  3.74288507e-03,\n",
       "         5.97287830e-04,  3.38653049e-03,  6.53109595e-03,\n",
       "         2.47191664e-03],\n",
       "       [ 4.67886131e-05, -4.48486468e-04,  5.97287830e-04,\n",
       "         1.26501545e-03,  1.21450658e-03,  1.10798000e-03,\n",
       "        -1.13666838e-04],\n",
       "       [-2.75511519e-04,  2.02257565e-03,  3.38653049e-03,\n",
       "         1.21450658e-03,  5.16855082e-03,  7.72712378e-03,\n",
       "         1.68253954e-03],\n",
       "       [-3.34434691e-04,  6.05259709e-03,  6.53109595e-03,\n",
       "         1.10798000e-03,  7.72712378e-03,  1.60423832e-02,\n",
       "         4.58927757e-03],\n",
       "       [ 1.40098367e-03,  4.18941874e-03,  2.47191664e-03,\n",
       "        -1.13666838e-04,  1.68253954e-03,  4.58927757e-03,\n",
       "         3.52541087e-03]])"
      ]
     },
     "execution_count": 130,
     "metadata": {},
     "output_type": "execute_result"
    }
   ],
   "source": [
    "Σ=X_end@F@X_end.T+cov_ε\n",
    "Σ"
   ]
  },
  {
   "cell_type": "code",
   "execution_count": 131,
   "id": "28c5ecb0-14b7-426b-8a3b-1ae517a3deb8",
   "metadata": {},
   "outputs": [
    {
     "data": {
      "text/plain": [
       "(array([ 0.00137129, -0.00354499, -0.0001235 ,  0.00403826,  0.00036044,\n",
       "        -0.00671988, -0.00097458]),\n",
       " array([[ 9.50248605e-03,  5.16116096e-03,  1.18486930e-03,\n",
       "          5.71603456e-04,  7.64322557e-05, -4.68344048e-04,\n",
       "          2.30302144e-03],\n",
       "        [ 5.16116096e-03,  1.22774090e-02,  6.53944505e-03,\n",
       "         -2.49996896e-04,  4.45272146e-03,  1.17298397e-02,\n",
       "          7.67050595e-03],\n",
       "        [ 1.18486930e-03,  6.53944505e-03,  6.66158056e-03,\n",
       "          1.17371171e-03,  6.37299069e-03,  1.23775083e-02,\n",
       "          4.89358784e-03],\n",
       "        [ 5.71603456e-04, -2.49996896e-04,  1.17371171e-03,\n",
       "          1.85909613e-03,  2.06241507e-03,  1.83097051e-03,\n",
       "          1.11609493e-04],\n",
       "        [ 7.64322557e-05,  4.45272146e-03,  6.37299069e-03,\n",
       "          2.06241507e-03,  8.99817129e-03,  1.45837056e-02,\n",
       "          3.48717397e-03],\n",
       "        [-4.68344048e-04,  1.17298397e-02,  1.23775083e-02,\n",
       "          1.83097051e-03,  1.45837056e-02,  3.00745367e-02,\n",
       "          8.72422454e-03],\n",
       "        [ 2.30302144e-03,  7.67050595e-03,  4.89358784e-03,\n",
       "          1.11609493e-04,  3.48717397e-03,  8.72422454e-03,\n",
       "          6.13152162e-03]]))"
      ]
     },
     "execution_count": 131,
     "metadata": {},
     "output_type": "execute_result"
    }
   ],
   "source": [
    "V_r_q = inv(inv(Σ)-inv(Σ)@X_end@inv(inv(V_θ_q)+X_end.T@inv(Σ)@X_end)@X_end.T@inv(Σ))\n",
    "E_r_q = V_r_q@inv(Σ)@X_end@inv(inv(V_θ_q)+X_end.T@inv(Σ)@X_end)@inv(V_θ_q)@E_θ_q\n",
    "E_r_q, V_r_q"
   ]
  },
  {
   "cell_type": "code",
   "execution_count": 132,
   "id": "a409d4ea-b4be-414f-a0a4-0f3b9574a4fd",
   "metadata": {},
   "outputs": [
    {
     "data": {
      "text/plain": [
       "array([-0.01474497, -0.01477132,  0.0212534 , -0.00468756,  0.01479617,\n",
       "        0.02415867, -0.00904535])"
      ]
     },
     "execution_count": 132,
     "metadata": {},
     "output_type": "execute_result"
    }
   ],
   "source": [
    "r"
   ]
  },
  {
   "cell_type": "code",
   "execution_count": null,
   "id": "bd1015d5-37bf-4476-9458-dbd030fe2468",
   "metadata": {},
   "outputs": [],
   "source": []
  },
  {
   "cell_type": "code",
   "execution_count": null,
   "id": "f453c6c2-a404-4539-9be9-355f58010826",
   "metadata": {},
   "outputs": [],
   "source": []
  },
  {
   "cell_type": "code",
   "execution_count": null,
   "id": "531f4d83-c377-4e49-8f42-c07bd263542b",
   "metadata": {},
   "outputs": [],
   "source": []
  },
  {
   "cell_type": "code",
   "execution_count": null,
   "id": "8a5b6ffb-56d2-4cb4-9c58-c5ba797fb9cb",
   "metadata": {},
   "outputs": [],
   "source": []
  },
  {
   "cell_type": "code",
   "execution_count": null,
   "id": "84c4dc7b-4be4-4e03-88da-1f15a7528eeb",
   "metadata": {},
   "outputs": [],
   "source": []
  }
 ],
 "metadata": {
  "kernelspec": {
   "display_name": "Python 3 (ipykernel)",
   "language": "python",
   "name": "python3"
  },
  "language_info": {
   "codemirror_mode": {
    "name": "ipython",
    "version": 3
   },
   "file_extension": ".py",
   "mimetype": "text/x-python",
   "name": "python",
   "nbconvert_exporter": "python",
   "pygments_lexer": "ipython3",
   "version": "3.9.12"
  }
 },
 "nbformat": 4,
 "nbformat_minor": 5
}
