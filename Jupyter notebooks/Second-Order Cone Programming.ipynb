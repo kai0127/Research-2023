{
 "cells": [
  {
   "cell_type": "markdown",
   "id": "b7f91fb7-42a0-48ee-bc78-ed16d067b8cd",
   "metadata": {
    "tags": []
   },
   "source": [
    "# <center> Second-Order Cone Programming</center>"
   ]
  },
  {
   "cell_type": "markdown",
   "id": "1017adcd-7e13-4e34-aa64-bca117ddabda",
   "metadata": {},
   "source": [
    "&copy; Kaiwen Zhou 2023"
   ]
  },
  {
   "cell_type": "markdown",
   "id": "f5b02955-c87b-476f-aeca-083b0f1a43ac",
   "metadata": {},
   "source": [
    "### For full documentation, check [HERE](http://cvxopt.org/userguide/coneprog.html#cvxopt.solvers.socp)"
   ]
  },
  {
   "cell_type": "markdown",
   "id": "cac1bb47-643d-45bc-a6c8-1bdb92953678",
   "metadata": {},
   "source": [
    "The function socp is a simpler interface to *conelp* for cone programs with no linear matrix inequality constraints. \n",
    "\n",
    "cvxopt. solvers. $\\operatorname{socp}(c[, G l, h l[, G q, h q[, A, b[, \\operatorname{solver}[, \\operatorname{primalstart}[$, dualstart $]]]]]])$\n",
    "\n",
    "Solves the pair of primal and dual second-order cone programs\n",
    "$$\n",
    "\\begin{array}{ll}\n",
    "\\operatorname{minimize} & c^T x \\\\\n",
    "\\text { subject to } & G_k x+s_k=h_k, \\quad k=0, \\ldots, M \\\\\n",
    "& A x=b \\\\\n",
    "& s_0 \\succeq 0 \\\\\n",
    "& s_{k 0} \\geq\\left\\|s_{k 1}\\right\\|_2, \\quad k=1, \\ldots, M\n",
    "\\end{array}\n",
    "$$\n",
    "and\n",
    "$$\n",
    "\\begin{array}{ll}\n",
    "\\text { maximize } & -\\sum_{k=0}^M h_k^T z_k-b^T y \\\\\n",
    "\\text { subject to } & \\sum_{k=0}^M G_k^T z_k+A^T y+c=0 \\\\\n",
    "& z_0 \\succeq 0 \\\\\n",
    "& z_{k 0} \\geq\\left\\|z_{k 1}\\right\\|_2, \\quad k=1, \\ldots, M\n",
    "\\end{array}\n",
    "$$\n",
    "The inequalities\n",
    "$$\n",
    "s_0 \\succeq 0, \\quad z_0 \\succeq 0\n",
    "$$\n",
    "are componentwise vector inequalities. In the other inequalities, it is assumed that the variables are partitioned as\n",
    "$$\n",
    "s_k=\\left(s_{k 0}, s_{k 1}\\right) \\in \\mathbf{R} \\times \\mathbf{R}^{r_k-1}, \\quad z_k=\\left(z_{k 0}, z_{k 1}\\right) \\in \\mathbf{R} \\times \\mathbf{R}^{r_k-1}, \\quad k=1, \\ldots, M\n",
    "$$\n",
    "The input argument $\\mathrm{c}$ is a real single-column dense matrix. The arguments $\\mathrm{Gl}$ and $\\mathrm{hl}$ are the coefficient matrix $G_0$ and the right-hand side $h_0$ of the componentwise inequalities. Gl is a real dense or sparse matrix; hl is a real single-column dense matrix. The default values for $\\mathrm{Gl}$ and $\\mathrm{hl}$ are matrices with zero rows.\n",
    "\n",
    "The argument Gq is a list of $M$ dense or sparse matrices $G_1, \\ldots, G_M$. The argument hq is a list of $M$ dense single-column matrices $h_1, \\ldots, h_M$. The elements of Gq and hq must have at least one row. The default values of Gq and hq are empty lists.\n",
    "$\\mathrm{A}$ is dense or sparse matrix and $\\mathrm{b}$ is a single-column dense matrix. The default values for $\\mathrm{A}$ and $\\mathrm{b}$ are matrices with zero rows."
   ]
  },
  {
   "cell_type": "markdown",
   "id": "cc60b7d5-b31b-427c-88ad-85d067c0818c",
   "metadata": {},
   "source": [
    "The solver argument is used to choose between two solvers: the CVXOPT conelp solver (used when solver is absent or equal to None and the external solver MOSEK (solver is 'mosek'); see the section Optional Solvers. With the 'mosek ' option the code does not accept problems with equality constraints.\n",
    "primalstart and dualstart are dictionaries with optional primal, respectively, dual starting points. primalstart has elements ' $x$ ', 'sl', 'sq'. primalstart [' $x$ '] and primalstart['sl'] are single-column dense matrices with the initial values of $x$ and $s_0$; primalstart ['sq' ] is a list of singlecolumn matrices with the initial values of $s_1, \\ldots, s_M$. The initial values must satisfy the inequalities in the primal problem strictly, but not necessarily the equality constraints.\n",
    "dualstart has elements 'y', 'zl', 'zq'. dualstart['y'] and dualstart['zl'] are singlecolumn dense matrices with the initial values of $y$ and $z_0$. dualstart [' $\\mathrm{zq}^{\\prime}$ ] is a list of single-column matrices with the initial values of $z_1, \\ldots, z_M$. These values must satisfy the dual inequalities strictly, but not necessarily the equality constraint.\n",
    "The arguments primalstart and dualstart are ignored when the MOSEK solver is used.\n",
    "socp returns a dictionary that include entries with keys 'status', 'x', 'sl', 'sq', 'y', 'zl', 'zq'. The 'sl' and 'zl' fields are matrices with the primal slacks and dual variables associated with the componentwise linear inequalities. The ' $\\mathrm{sq}$ ' and ' $\\mathrm{zq}$ ' fields are lists with the primal slacks and dual variables associated with the second-order cone inequalities. The other entries in the output dictionary have the same meaning as in the output of conelp."
   ]
  },
  {
   "cell_type": "markdown",
   "id": "c9f708fd-fd26-4a31-a88f-8ed80761bcdd",
   "metadata": {},
   "source": [
    "# Example"
   ]
  },
  {
   "cell_type": "markdown",
   "id": "b9d2ccd2-9f8c-4aa5-b8b0-e6aec241c005",
   "metadata": {},
   "source": [
    "As an example, we solve the second-order cone program\n",
    "$$\n",
    "\\begin{aligned}\n",
    "\\text { minimize } & -2 x_1+x_2+5 x_3 \\\\\n",
    "\\text { subject to } & \\left\\|\\left[\\begin{array}{c}\n",
    "-13 x_1+3 x_2+5 x_3-3 \\\\\n",
    "-12 x_1+12 x_2-6 x_3-2\n",
    "\\end{array}\\right]\\right\\|_2 \\leq-12 x_1-6 x_2+5 x_3-12 \\\\\n",
    "& \\left\\|\\left[\\begin{array}{c}\n",
    "-3 x_1+6 x_2+2 x_3 \\\\\n",
    "x_1+9 x_2+2 x_3+3 \\\\\n",
    "-x_1-19 x_2+3 x_3-42\n",
    "\\end{array}\\right]\\right\\|_2 \\leq-3 x_1+6 x_2-10 x_3+27 .\n",
    "\\end{aligned}\n",
    "$$\n"
   ]
  },
  {
   "cell_type": "markdown",
   "id": "6ec371ef-24c4-4257-bac9-15055b1870fd",
   "metadata": {},
   "source": [
    "**Solution:**\n",
    "\n",
    "For the first constraint, we want to have\n",
    "$$\n",
    "\\left[\\begin{array}{c}\n",
    "-13 x_1+3 x_2+5 x_3-3 \\\\\n",
    "-12 x_1+12 x_2-6 x_3-2\n",
    "\\end{array}\\right] = \\boldsymbol{s}_{k1}\n",
    ", \\text{ and } -12 x_1-6 x_2+5 x_3-12 = s_{k0}, \\quad k=0\n",
    "$$\n",
    "Then we need $G_k$ and $h_k$ to satisfy\n",
    "$$\n",
    "\\boldsymbol{s}_{k}=\\begin{bmatrix}\n",
    "s_{k0} \\\\\n",
    "\\boldsymbol{s}_{k1}=\\begin{bmatrix}\n",
    "& \\\\\n",
    "&  \n",
    "\\end{bmatrix}\n",
    "\\end{bmatrix}=\n",
    "\\begin{bmatrix}\n",
    "-12 x_1-6 x_2+5 x_3-12\\\\\n",
    "-13 x_1+3 x_2+5 x_3-3 \\\\\n",
    "-12 x_1+12 x_2-6 x_3-2\n",
    "\\end{bmatrix} = \\begin{bmatrix}\n",
    "-12\\\\\n",
    "-3 \\\\\n",
    "-2\n",
    "\\end{bmatrix}+\\begin{bmatrix}\n",
    "-12 &-6 &5 \\\\\n",
    "-13 &3 &5 \\\\\n",
    "-12 &12 &-6 \n",
    "\\end{bmatrix}\\begin{bmatrix}\n",
    "x_1\\\\\n",
    "x_2\\\\\n",
    "x_3\n",
    "\\end{bmatrix}=h_k-G_k\\boldsymbol{x}\n",
    "$$\n",
    "Therefore, we must have\n",
    "$$\n",
    "h_k=\\begin{bmatrix}\n",
    "-12\\\\\n",
    "-3 \\\\\n",
    "-2\n",
    "\\end{bmatrix}, \\text{ and } G_k=\\begin{bmatrix}\n",
    "12 &6 &-5 \\\\\n",
    "13 &-3 &-5 \\\\\n",
    "12 &-12 &6 \n",
    "\\end{bmatrix} \\text{ for } k=0\n",
    "$$\n",
    "Similarly, we have\n",
    "$$\n",
    "h_k=\\begin{bmatrix}\n",
    "27\\\\\n",
    "0\\\\\n",
    "3\\\\\n",
    "-42\n",
    "\\end{bmatrix}, \\text{ and } G_k=\\begin{bmatrix}\n",
    "3 &-6 &10 \\\\\n",
    "3 &-6 &-2 \\\\\n",
    "-1 &-9 &-2 \\\\\n",
    "1 &19 & -3 \n",
    "\\end{bmatrix} \\text{ for } k=0\n",
    "$$"
   ]
  },
  {
   "cell_type": "code",
   "execution_count": 6,
   "id": "572f2561-9afe-40b3-894d-0ffa86bc2626",
   "metadata": {},
   "outputs": [
    {
     "name": "stdout",
     "output_type": "stream",
     "text": [
      "     pcost       dcost       gap    pres   dres   k/t\n",
      " 0:  4.9969e+00 -1.7285e+01  6e+01  3e-01  4e+00  1e+00\n",
      " 1: -1.6732e+00 -7.0431e+00  1e+01  7e-02  1e+00  6e-01\n",
      " 2: -1.6221e+01 -3.5417e+01  2e+02  3e-01  5e+00  7e+00\n",
      " 3: -2.1832e+01 -2.2849e+01  3e+01  4e-02  6e-01  2e+00\n",
      " 4: -3.5265e+01 -3.5594e+01  1e+01  1e-02  2e-01  9e-01\n",
      " 5: -3.8303e+01 -3.8314e+01  3e-01  4e-04  6e-03  2e-02\n",
      " 6: -3.8342e+01 -3.8342e+01  1e-02  1e-05  2e-04  7e-04\n",
      " 7: -3.8346e+01 -3.8346e+01  9e-04  1e-06  2e-05  7e-05\n",
      " 8: -3.8346e+01 -3.8346e+01  4e-05  6e-08  9e-07  4e-06\n",
      " 9: -3.8346e+01 -3.8346e+01  2e-06  3e-09  4e-08  2e-07\n",
      "Optimal solution found.\n",
      "Status: optimal\n",
      "The optimal solution for x  [-5.01e+00]\n",
      "[-5.77e+00]\n",
      "[-8.52e+00]\n",
      "\n",
      "The assocaited primal slacks are:  [ 1.34e+00]\n",
      "[-7.63e-02]\n",
      "[-1.34e+00]\n",
      "\n",
      "The assocaited dual variables are:  [ 1.02e+00]\n",
      "[ 4.02e-01]\n",
      "[ 7.80e-01]\n",
      "[-5.17e-01]\n",
      "\n"
     ]
    }
   ],
   "source": [
    "from cvxopt import matrix, solvers\n",
    "\n",
    "# objective function\n",
    "c = matrix([-2., 1., 5.])\n",
    "\n",
    "# Construct a list of G_1 and G_2, i.e. [G_1, G_2]\n",
    "'''\n",
    "NOTE: The matrix constructing method in cvxopt is different from that in numpy package \n",
    "where the former specifies columns, whereas the latter specifies rows\n",
    "'''\n",
    "G = [ matrix( [[12., 13., 12.], [6., -3., -12.], [-5., -5., 6.]] ) ]\n",
    "G += [ matrix( [[3., 3., -1., 1.], [-6., -6., -9., 19.], [10., -2., -2., -3.]] ) ]\n",
    "\n",
    "# Construct the associated h_1 and h_2\n",
    "h = [ matrix( [-12., -3., -2.] ),  matrix( [27., 0., 3., -42.] ) ]\n",
    "\n",
    "# solve for optimal result\n",
    "sol = solvers.socp(c, Gq = G, hq = h)\n",
    "\n",
    "print('Status:', sol['status'])\n",
    "\n",
    "print('The optimal solution for x ',sol['x'])\n",
    "\n",
    "print('The assocaited primal slacks are: ', sol['zq'][0])\n",
    "\n",
    "print('The assocaited dual variables are: ', sol['zq'][1])\n"
   ]
  },
  {
   "cell_type": "code",
   "execution_count": null,
   "id": "9788308d-7094-431d-847f-6f54838244d0",
   "metadata": {},
   "outputs": [],
   "source": []
  }
 ],
 "metadata": {
  "kernelspec": {
   "display_name": "Python 3 (ipykernel)",
   "language": "python",
   "name": "python3"
  },
  "language_info": {
   "codemirror_mode": {
    "name": "ipython",
    "version": 3
   },
   "file_extension": ".py",
   "mimetype": "text/x-python",
   "name": "python",
   "nbconvert_exporter": "python",
   "pygments_lexer": "ipython3",
   "version": "3.9.12"
  }
 },
 "nbformat": 4,
 "nbformat_minor": 5
}
